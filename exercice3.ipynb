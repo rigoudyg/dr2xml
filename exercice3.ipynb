{
 "cells": [
  {
   "cell_type": "markdown",
   "metadata": {},
   "source": [
    "# Exercice 3:  Customize the output (more flexible ways)"
   ]
  },
  {
   "cell_type": "markdown",
   "metadata": {},
   "source": [
    "> **Objective:** Try a more sophisticated method to customize the ouputs: the so-called **home_data_request** <br>\n",
    "(a) requesting additionnal CMIP6 standard variables, already existing in a CMIP6 Table <br>\n",
    "(b) requesting a CMIP6 standard variable but that do not exist in the predefined CMIP6 Table for the frequency we want <br>\n",
    "(c) requesting a CMIP6 standard variable but that do not exist in the predefined CMIP6 Table for the shape we want <br>\n",
    "(d) requesting a totally new variable, that is not defined in the CMIP6 standards (2 ways) <br>\n",
    "(e) par le mécanisme des variables dev: Gaëlle à toi de jouer !"
   ]
  },
  {
   "cell_type": "markdown",
   "metadata": {},
   "source": [
    "## Importations and initial settings"
   ]
  },
  {
   "cell_type": "code",
   "execution_count": 1,
   "metadata": {},
   "outputs": [
    {
     "name": "stdout",
     "output_type": "stream",
     "text": [
      "01.00.32\n"
     ]
    }
   ],
   "source": [
    "from dreqPy import dreq\n",
    "dq = dreq.loadDreq()\n",
    "print(dq.version)"
   ]
  },
  {
   "cell_type": "code",
   "execution_count": 2,
   "metadata": {},
   "outputs": [
    {
     "name": "stdout",
     "output_type": "stream",
     "text": [
      "\n",
      " ************************************************** \n",
      "*\n",
      "*              dr2xml version:  2.2\n",
      "*   CMIP6 conventions version:  v6.2.4\n",
      "*  CMIP6 Data Request version:  01.00.32\n",
      "\n",
      "*\n",
      " **************************************************\n"
     ]
    }
   ],
   "source": [
    "import six\n",
    "from dr2xml import generate_file_defs"
   ]
  },
  {
   "cell_type": "code",
   "execution_count": 3,
   "metadata": {},
   "outputs": [],
   "source": [
    "# Start from exercice 2c state (output only tas_Amon)\n",
    "from settings.exercices.exe3.myEXPE_settings import simulation_settings as sset\n",
    "from settings.exercices.exe3.myLAB_settings import lab_and_model_settings as lset"
   ]
  },
  {
   "cell_type": "code",
   "execution_count": 4,
   "metadata": {},
   "outputs": [],
   "source": [
    "my_cvpath=\"./CMIP6_CVs/\"\n",
    "my_context=\"surfex\"\n",
    "my_pingfile=lset[\"path_to_parse\"]+\"ping_\"+my_context+\".xml\""
   ]
  },
  {
   "cell_type": "code",
   "execution_count": 5,
   "metadata": {
    "scrolled": true
   },
   "outputs": [
    {
     "name": "stdout",
     "output_type": "stream",
     "text": [
      "\n",
      "**************************************************\n",
      "\n",
      "Processing context  surfex\n",
      "\n",
      "**************************************************\n",
      "\n",
      "Number of Request Links which apply to MIPS ['CMIP', 'OMIP']  is: 25\n",
      "Number of Request Links after filtering by excluded_request_links is: 25\n",
      "Number of Request Links after filtering by included_request_links is: 25\n",
      "Filtering for experiment historical, covering years [ 1850.0 , 2014.0 ] in DR\n",
      "Number of Request Links which apply to experiment historical member 1 and MIPs ['CMIP', 'OMIP'] is: 17\n",
      "Number of (CMOR variable, grid) pairs for these requestLinks is :383\n",
      "Number once filtered by excluded/included vars and tables and spatial shapes is : 2\n",
      "Number of distinct CMOR variables (whatever the grid) : 1\n",
      "Number of distinct var labels is : 1\n",
      "Number of simplified vars is : 1\n",
      "Issues with standard names are : []\n",
      "Info: No HOMEvars list provided.\n",
      "\n",
      "Realms for these CMORvars : atmos\n",
      "Processing realm 'atmos' of context 'surfex'\n",
      "Processing realm 'atmos atmosChem' of context 'surfex'\n",
      "Processing realm 'atmosChem' of context 'surfex'\n",
      "Processing realm 'aerosol' of context 'surfex'\n",
      "Processing realm 'atmos land' of context 'surfex'\n",
      "Processing realm 'land' of context 'surfex'\n",
      "Processing realm 'landIce land' of context 'surfex'\n",
      "Processing realm 'land landIce' of context 'surfex'\n",
      "Processing realm 'landIce' of context 'surfex'\n",
      "processing file /home/rigoudyg/dev/DR2XML/dr2xml_training/settings/exercices/exe3/../../../xml_input/basics/ping_surfex.xml :\n",
      "OK /home/rigoudyg/dev/DR2XML/dr2xml_training/settings/exercices/exe3/../../../xml_input/basics/ping_surfex.xml\n",
      "warning: branch_time_in_parent not in dic and default is None\n",
      "\n",
      "file_def written as ./dr2xml_output/exercices/exe3/dr2xml_surfex.xml\n",
      "\n",
      "\n",
      "Some Statistics on actually written variables per frequency+shape...\n",
      "                            Amon P1   1: tas\n",
      "       mon    XY-na    -------- ---   1\n",
      "\n",
      "       mon --------    -------- ---   1\n",
      "\n",
      "\n",
      "---------- --------    -------- ---   1\n"
     ]
    }
   ],
   "source": [
    "my_outdir=\"./dr2xml_output/exercices/exe3/\"\n",
    "generate_file_defs(lset, sset,year=\"1900\", enddate=\"2014\", context=my_context,\n",
    "                    pingfiles=my_pingfile, printout=True, \n",
    "                    cvs_path=my_cvpath,dummies='skip', dirname=my_outdir)"
   ]
  },
  {
   "cell_type": "markdown",
   "metadata": {},
   "source": [
    "## Exercice 3"
   ]
  },
  {
   "cell_type": "markdown",
   "metadata": {},
   "source": [
    "### (a) add 5 omitted cmor variables : huss_day, zg_day, ts_Eday, uas_3hr, vas_3hr  ['cmor' type]"
   ]
  },
  {
   "cell_type": "code",
   "execution_count": 6,
   "metadata": {
    "scrolled": true
   },
   "outputs": [],
   "source": [
    "# New there ! an home data request\n",
    "sset.update({\"listof_home_vars\" : \"./home_data_request/exercices/exe3/home_data_request_a.txt\"})"
   ]
  },
  {
   "cell_type": "code",
   "execution_count": 7,
   "metadata": {},
   "outputs": [
    {
     "name": "stdout",
     "output_type": "stream",
     "text": [
      "#------------------------------------------------------------------------------------------------------------------------------------------------------\r\n",
      "#TYPE;    VARNAME;         REALM;     FREQUENCY;     TABLE;                     TEMPORAL_SHP;         SPATIAL_SHP;       EXPNAME;            MIP\r\n",
      "#------------------------------------------------------------------------------------------------------------------------------------------------------\r\n",
      "# (a) requesting additionnal CMIP6 standard variables, already existing in a CMIP6 Table\r\n",
      "cmor;      huss;           atmos;     day;           CMIP6_day;                 time-mean;            XY-na;             ANY;                ANY\r\n",
      "cmor;      zg;             atmos;     day;           CMIP6_day;                 time-mean;            XY-P8;             ANY;                ANY\r\n",
      "cmor;      ts;             atmos;     day;           CMIP6_Eday;                time-mean;            XY-na;             ANY;                ANY\r\n",
      "cmor;      uas;            atmos;     3hrPt;         CMIP6_3hr;                 time-point;           XY-na;             ANY;                ANY\r\n",
      "cmor;      vas;            atmos;     3hrPt;         CMIP6_3hr;                 time-point;           XY-na;             ANY;                ANY\r\n"
     ]
    }
   ],
   "source": [
    "!cat \"./home_data_request/exercices/exe3/home_data_request_a.txt\""
   ]
  },
  {
   "cell_type": "code",
   "execution_count": 8,
   "metadata": {
    "scrolled": true
   },
   "outputs": [
    {
     "name": "stdout",
     "output_type": "stream",
     "text": [
      "\n",
      "**************************************************\n",
      "\n",
      "Processing context  surfex\n",
      "\n",
      "**************************************************\n",
      "\n",
      "Filtering for experiment historical, covering years [ 1850.0 , 2014.0 ] in DR\n",
      "Number of Request Links which apply to experiment historical member 1 and MIPs ['CMIP', 'OMIP'] is: 17\n",
      "Number of (CMOR variable, grid) pairs for these requestLinks is :383\n",
      "Number once filtered by excluded/included vars and tables and spatial shapes is : 2\n",
      "Number of distinct CMOR variables (whatever the grid) : 1\n",
      "Number of distinct var labels is : 1\n",
      "Number of simplified vars is : 1\n",
      "Issues with standard names are : []\n",
      "homevars file: ./home_data_request/exercices/exe3/home_data_request_a.txt\n",
      "Number of 'cmor', 'dev' and 'perso' among home variables: 5\n",
      "Number of 'extra' among home variables: 0\n",
      "homevars list: huss zg ts uas vas\n",
      "\n",
      "Realms for these CMORvars : atmos\n",
      "Processing realm 'atmos' of context 'surfex'\n",
      "Processing realm 'atmos atmosChem' of context 'surfex'\n",
      "Processing realm 'atmosChem' of context 'surfex'\n",
      "Processing realm 'aerosol' of context 'surfex'\n",
      "Processing realm 'atmos land' of context 'surfex'\n",
      "Processing realm 'land' of context 'surfex'\n",
      "Processing realm 'landIce land' of context 'surfex'\n",
      "Processing realm 'land landIce' of context 'surfex'\n",
      "Processing realm 'landIce' of context 'surfex'\n",
      "processing file /home/rigoudyg/dev/DR2XML/dr2xml_training/settings/exercices/exe3/../../../xml_input/basics/ping_surfex.xml :\n",
      "OK /home/rigoudyg/dev/DR2XML/dr2xml_training/settings/exercices/exe3/../../../xml_input/basics/ping_surfex.xml\n",
      "warning: branch_time_in_parent not in dic and default is None\n",
      "warning: branch_time_in_parent not in dic and default is None\n",
      "warning: branch_time_in_parent not in dic and default is None\n",
      "warning: branch_time_in_parent not in dic and default is None\n",
      "warning: branch_time_in_parent not in dic and default is None\n",
      "warning: branch_time_in_parent not in dic and default is None\n",
      "\n",
      "file_def written as ./dr2xml_output/exercices/exe3a/dr2xml_surfex.xml\n",
      "\n",
      "\n",
      "Some Statistics on actually written variables per frequency+shape...\n",
      "                             3hr P1   2: uas vas\n",
      "     3hrPt    XY-na    -------- ---   2\n",
      "\n",
      "     3hrPt --------    -------- ---   2\n",
      "\n",
      "                            Amon P1   1: tas\n",
      "       mon    XY-na    -------- ---   1\n",
      "\n",
      "       mon --------    -------- ---   1\n",
      "\n",
      "                            Eday P1   1: ts\n",
      "                             day P1   1: huss\n",
      "       day    XY-na    -------- ---   2\n",
      "\n",
      "                             day P2   1: zg\n",
      "       day    XY-P8    -------- ---   1\n",
      "\n",
      "       day --------    -------- ---   3\n",
      "\n",
      "\n",
      "---------- --------    -------- ---   6\n"
     ]
    }
   ],
   "source": [
    "my_outdir=\"./dr2xml_output/exercices/exe3a/\"\n",
    "generate_file_defs(lset, sset,year=\"1900\", enddate=\"2014\", context=my_context,\n",
    "                    pingfiles=my_pingfile, printout=True, \n",
    "                    cvs_path=my_cvpath,dummies='skip', dirname=my_outdir)"
   ]
  },
  {
   "cell_type": "markdown",
   "metadata": {},
   "source": [
    "### (b) add a cmip variable introducing a new table (other frequency) : wap_6hrPtExe3 ['extra' type]"
   ]
  },
  {
   "cell_type": "code",
   "execution_count": 9,
   "metadata": {
    "scrolled": true
   },
   "outputs": [],
   "source": [
    "sset.update({\"listof_home_vars\" : \"./home_data_request/exercices/exe3/home_data_request_b.txt\"})"
   ]
  },
  {
   "cell_type": "code",
   "execution_count": 10,
   "metadata": {
    "scrolled": true
   },
   "outputs": [
    {
     "name": "stdout",
     "output_type": "stream",
     "text": [
      "#------------------------------------------------------------------------------------------------------------------------------------------------------\r\n",
      "#TYPE;    VARNAME;         REALM;     FREQUENCY;     TABLE;                     TEMPORAL_SHP;         SPATIAL_SHP;       EXPNAME;            MIP\r\n",
      "#------------------------------------------------------------------------------------------------------------------------------------------------------\r\n",
      "# (b) requesting a CMIP6 standard variable but that doest not exist in the predefined CMIP6 Table for the frequency we want\r\n",
      "extra;  wap;              atmos;      6hrPt;         TRAINING_6hrPtExe3;         ANY;                  ANY;               ANY;                ANY\r\n"
     ]
    }
   ],
   "source": [
    "!cat \"./home_data_request/exercices/exe3/home_data_request_b.txt\""
   ]
  },
  {
   "cell_type": "code",
   "execution_count": 11,
   "metadata": {
    "scrolled": true
   },
   "outputs": [],
   "source": [
    "# New there ! an extra json Table\n",
    "sset.update({\"path_extra_tables\": \"./Tables/exercices/exe3/\"})"
   ]
  },
  {
   "cell_type": "code",
   "execution_count": 12,
   "metadata": {},
   "outputs": [
    {
     "name": "stdout",
     "output_type": "stream",
     "text": [
      "        \"wap7h\": {\r\n",
      "            \"frequency\": \"6hrPt\", \r\n",
      "            \"modeling_realm\": \"atmos\", \r\n",
      "            \"standard_name\": \"lagrangian_tendency_of_air_pressure\", \r\n",
      "            \"units\": \"Pa s-1\", \r\n",
      "            \"cell_methods\": \"area: mean time: point\", \r\n",
      "            \"cell_measures\": \"area: areacella\", \r\n",
      "            \"long_name\": \"omega (=dp/dt)\", \r\n",
      "            \"comment\": \"Omega (vertical velocity in pressure coordinates, positive downwards)\", \r\n",
      "            \"dimensions\": \"longitude latitude plev7h time1\", \r\n",
      "            \"out_name\": \"wap\", \r\n",
      "            \"type\": \"real\", \r\n",
      "            \"positive\": \"\", \r\n",
      "            \"valid_min\": \"\", \r\n",
      "            \"valid_max\": \"\", \r\n",
      "            \"ok_min_mean_abs\": \"\", \r\n",
      "            \"ok_max_mean_abs\": \"\",\r\n",
      "            \"training_priority\": \"1\"\r\n",
      "        }\r\n",
      "    }\r\n"
     ]
    }
   ],
   "source": [
    "!grep -A 9 wap ./Tables/exercices/exe3/TRAINING_6hrPtExe3.json"
   ]
  },
  {
   "cell_type": "code",
   "execution_count": 13,
   "metadata": {
    "scrolled": true
   },
   "outputs": [
    {
     "name": "stdout",
     "output_type": "stream",
     "text": [
      "\n",
      "**************************************************\n",
      "\n",
      "Processing context  surfex\n",
      "\n",
      "**************************************************\n",
      "\n",
      "Filtering for experiment historical, covering years [ 1850.0 , 2014.0 ] in DR\n",
      "Number of Request Links which apply to experiment historical member 1 and MIPs ['CMIP', 'OMIP'] is: 17\n",
      "Number of (CMOR variable, grid) pairs for these requestLinks is :383\n",
      "Number once filtered by excluded/included vars and tables and spatial shapes is : 2\n",
      "Number of distinct CMOR variables (whatever the grid) : 1\n",
      "Number of distinct var labels is : 1\n",
      "Number of simplified vars is : 1\n",
      "Issues with standard names are : []\n",
      "homevars file: ./home_data_request/exercices/exe3/home_data_request_b.txt\n",
      "For extra table TRAINING_6hrPtExe3 (which has 1 variables): \n",
      "\tVariables which dim was found in extra coordinates table:\n",
      "\n",
      "\tDynamical XY-xxx spatial shapes (shapes not found in DR):\n",
      "\n",
      "Number of 'cmor', 'dev' and 'perso' among home variables: 0\n",
      "Number of 'extra' among home variables: 1\n",
      "homevars list: wap\n",
      "\n",
      "Realms for these CMORvars : atmos\n",
      "Processing realm 'atmos' of context 'surfex'\n",
      "Processing realm 'atmos atmosChem' of context 'surfex'\n",
      "Processing realm 'atmosChem' of context 'surfex'\n",
      "Processing realm 'aerosol' of context 'surfex'\n",
      "Processing realm 'atmos land' of context 'surfex'\n",
      "Processing realm 'land' of context 'surfex'\n",
      "Processing realm 'landIce land' of context 'surfex'\n",
      "Processing realm 'land landIce' of context 'surfex'\n",
      "Processing realm 'landIce' of context 'surfex'\n",
      "processing file /home/rigoudyg/dev/DR2XML/dr2xml_training/settings/exercices/exe3/../../../xml_input/basics/ping_surfex.xml :\n",
      "OK /home/rigoudyg/dev/DR2XML/dr2xml_training/settings/exercices/exe3/../../../xml_input/basics/ping_surfex.xml\n",
      "warning: branch_time_in_parent not in dic and default is None\n",
      "warning: branch_time_in_parent not in dic and default is None\n",
      "\n",
      "file_def written as ./dr2xml_output/exercices/exe3b/dr2xml_surfex.xml\n",
      "\n",
      "\n",
      "Some Statistics on actually written variables per frequency+shape...\n",
      "                       6hrPtExe3 P1   1: wap\n",
      "       6hr   XY-P7T    -------- ---   1\n",
      "\n",
      "       6hr --------    -------- ---   1\n",
      "\n",
      "                            Amon P1   1: tas\n",
      "       mon    XY-na    -------- ---   1\n",
      "\n",
      "       mon --------    -------- ---   1\n",
      "\n",
      "\n",
      "---------- --------    -------- ---   2\n"
     ]
    }
   ],
   "source": [
    "my_outdir=\"./dr2xml_output/exercices/exe3b/\"\n",
    "generate_file_defs(lset, sset,year=\"1900\", enddate=\"2014\", context=my_context,\n",
    "                    pingfiles=my_pingfile, printout=True, \n",
    "                    cvs_path=my_cvpath,dummies='skip', dirname=my_outdir)"
   ]
  },
  {
   "cell_type": "markdown",
   "metadata": {},
   "source": [
    " ### (c) add 2 cmip variables introducing a new table (other vertical coordinate) :  no2_HOMEPmon, o3_HOMEPmon ['extra'  type]"
   ]
  },
  {
   "cell_type": "code",
   "execution_count": 14,
   "metadata": {},
   "outputs": [],
   "source": [
    "sset.update({\"listof_home_vars\" : \"./home_data_request/exercices/exe3/home_data_request_c.txt\"})"
   ]
  },
  {
   "cell_type": "code",
   "execution_count": 15,
   "metadata": {},
   "outputs": [
    {
     "name": "stdout",
     "output_type": "stream",
     "text": [
      "#------------------------------------------------------------------------------------------------------------------------------------------------------\r\n",
      "#TYPE;    VARNAME;         REALM;     FREQUENCY;     TABLE;                     TEMPORAL_SHP;         SPATIAL_SHP;       EXPNAME;            MIP\r\n",
      "#------------------------------------------------------------------------------------------------------------------------------------------------------\r\n",
      "# (c) requesting a CMIP6 standard variable but that doest not exist in the predefined CMIP6 Table for the spatial shape we want\r\n",
      "extra;  no2;             atmos;      mon;           CNRM_HOMEPmon;           ANY;                  ANY;               ANY;                ANY\r\n",
      "extra;  o3;              atmos;      mon;           CNRM_HOMEPmon;           ANY;                  ANY;               ANY;                ANY\r\n"
     ]
    }
   ],
   "source": [
    "!cat \"./home_data_request/exercices/exe3/home_data_request_c.txt\""
   ]
  },
  {
   "cell_type": "code",
   "execution_count": 16,
   "metadata": {},
   "outputs": [],
   "source": [
    "# New there ! an extra json Tables for vars **and** coordinates\n",
    "sset.update({\"path_extra_tables\": \"./Tables/exercices/exe3/\"})"
   ]
  },
  {
   "cell_type": "code",
   "execution_count": 17,
   "metadata": {},
   "outputs": [
    {
     "name": "stdout",
     "output_type": "stream",
     "text": [
      "        \"no2\": {\r\n",
      "            \"frequency\": \"mon\", \r\n",
      "            \"modeling_realm\": \"atmos\", \r\n",
      "            \"standard_name\": \"mole_fraction_of_nitrogen_dioxide_in_air\", \r\n",
      "            \"units\": \"mol mol-1\", \r\n",
      "            \"cell_methods\": \"area: time: mean\", \r\n",
      "            \"cell_measures\": \"area: areacella\", \r\n",
      "            \"long_name\": \"NO2 volume mixing ratio\", \r\n",
      "            \"comment\": \"\", \r\n",
      "            \"dimensions\": \"longitude latitude Plev39hm time\", \r\n",
      "            \"out_name\": \"no2\", \r\n",
      "            \"type\": \"real\", \r\n",
      "            \"positive\": \"\", \r\n",
      "            \"valid_min\": \"\", \r\n",
      "            \"valid_max\": \"\", \r\n",
      "            \"ok_min_mean_abs\": \"\", \r\n",
      "            \"ok_max_mean_abs\": \"\", \r\n",
      "            \"cnrm_priority\": \"1\"\r\n",
      "        }\r\n",
      "    }\r\n"
     ]
    }
   ],
   "source": [
    "!grep -A 9 no2 ./Tables/exercices/exe3/CNRM_HOMEPmon.json"
   ]
  },
  {
   "cell_type": "code",
   "execution_count": 18,
   "metadata": {},
   "outputs": [
    {
     "name": "stdout",
     "output_type": "stream",
     "text": [
      "        \"Plev39hm\": {\r\n",
      "            \"standard_name\": \"air_pressure\", \r\n",
      "            \"units\": \"Pa\", \r\n",
      "            \"axis\": \"Z\", \r\n",
      "            \"long_name\": \"pressure\", \r\n",
      "            \"climatology\": \"\", \r\n",
      "            \"formula\": \"\", \r\n",
      "            \"must_have_bounds\": \"no\", \r\n",
      "            \"out_name\": \"plev\", \r\n",
      "            \"positive\": \"down\", \r\n",
      "            \"requested\": [\r\n",
      "                \"100000.\",\r\n",
      "                \"92500.\",\r\n",
      "                \"85000.\",\r\n",
      "                \"70000.\",\r\n",
      "                \"60000.\",\r\n",
      "                \"50000.\",\r\n",
      "                \"40000.\",\r\n",
      "                \"30000.\",\r\n",
      "                \"25000.\",\r\n",
      "                \"20000.\",\r\n",
      "                \"17000.\",\r\n",
      "                \"15000.\",\r\n",
      "                \"13000.\",\r\n",
      "                \"11500.\",\r\n",
      "                \"10000.\",\r\n",
      "                \"9000.\",\r\n",
      "                \"8000.\",\r\n",
      "                \"7000.\",\r\n",
      "                \"5000.\",\r\n",
      "                \"3000.\",\r\n",
      "                \"2000.\",\r\n",
      "                \"1500.\",\r\n",
      "                \"1000.\",\r\n",
      "                \"700.\",\r\n",
      "                \"500.\",\r\n",
      "                \"300.\",\r\n",
      "                \"200.\",\r\n",
      "                \"150.\",\r\n",
      "                \"100.\",\r\n",
      "                \"70.\",\r\n",
      "                \"50.\",\r\n",
      "                \"40.\",\r\n",
      "                \"30.\",\r\n",
      "                \"20.\",\r\n",
      "                \"15.\",\r\n",
      "                \"10.\",\r\n",
      "                \"7.\",\r\n",
      "                \"5.\",\r\n",
      "                \"3.\"\r\n",
      "            ], \r\n",
      "            \"requested_bounds\": \"\", \r\n",
      "            \"stored_direction\": \"decreasing\", \r\n",
      "            \"tolerance\": \"\", \r\n",
      "            \"type\": \"double\", \r\n",
      "            \"valid_max\": \"\", \r\n",
      "            \"valid_min\": \"\", \r\n",
      "            \"value\": \"\", \r\n",
      "            \"z_bounds_factors\": \"\", \r\n",
      "            \"z_factors\": \"\", \r\n",
      "            \"bounds_values\": \"\"\r\n",
      "        }\r\n"
     ]
    }
   ],
   "source": [
    "!grep -A 61 Plev39hm ./Tables/exercices/exe3/CNRM_coordinate.json"
   ]
  },
  {
   "cell_type": "code",
   "execution_count": 19,
   "metadata": {},
   "outputs": [
    {
     "name": "stdout",
     "output_type": "stream",
     "text": [
      "\n",
      "**************************************************\n",
      "\n",
      "Processing context  surfex\n",
      "\n",
      "**************************************************\n",
      "\n",
      "Filtering for experiment historical, covering years [ 1850.0 , 2014.0 ] in DR\n",
      "Number of Request Links which apply to experiment historical member 1 and MIPs ['CMIP', 'OMIP'] is: 17\n",
      "Number of (CMOR variable, grid) pairs for these requestLinks is :383\n",
      "Number once filtered by excluded/included vars and tables and spatial shapes is : 2\n",
      "Number of distinct CMOR variables (whatever the grid) : 1\n",
      "Number of distinct var labels is : 1\n",
      "Number of simplified vars is : 1\n",
      "Issues with standard names are : []\n",
      "homevars file: ./home_data_request/exercices/exe3/home_data_request_c.txt\n",
      "For extra table CNRM_HOMEPmon (which has 9 variables): \n",
      "\tVariables which dim was found in extra coordinates table:\n",
      "\t\t            Plev39hm : co no2 o3\n",
      "\n",
      "\t\t             plev7hm : hus ta ua va wap zg\n",
      "\n",
      "\tDynamical XY-xxx spatial shapes (shapes not found in DR):\n",
      "\t\t         XY-Plev39hm : co no2 o3\n",
      "\n",
      "Number of 'cmor', 'dev' and 'perso' among home variables: 0\n",
      "Number of 'extra' among home variables: 2\n",
      "homevars list: no2 o3\n",
      "\n",
      "Realms for these CMORvars : atmos\n",
      "Processing realm 'atmos' of context 'surfex'\n",
      "Processing realm 'atmos atmosChem' of context 'surfex'\n",
      "Processing realm 'atmosChem' of context 'surfex'\n",
      "Processing realm 'aerosol' of context 'surfex'\n",
      "Processing realm 'atmos land' of context 'surfex'\n",
      "Processing realm 'land' of context 'surfex'\n",
      "Processing realm 'landIce land' of context 'surfex'\n",
      "Processing realm 'land landIce' of context 'surfex'\n",
      "Processing realm 'landIce' of context 'surfex'\n",
      "processing file /home/rigoudyg/dev/DR2XML/dr2xml_training/settings/exercices/exe3/../../../xml_input/basics/ping_surfex.xml :\n",
      "OK /home/rigoudyg/dev/DR2XML/dr2xml_training/settings/exercices/exe3/../../../xml_input/basics/ping_surfex.xml\n",
      "warning: branch_time_in_parent not in dic and default is None\n",
      "warning: branch_time_in_parent not in dic and default is None\n",
      "warning: branch_time_in_parent not in dic and default is None\n",
      "\n",
      "file_def written as ./dr2xml_output/exercices/exe3c/dr2xml_surfex.xml\n",
      "\n",
      "\n",
      "Some Statistics on actually written variables per frequency+shape...\n",
      "                            Amon P1   1: tas\n",
      "       mon    XY-na    -------- ---   1\n",
      "\n",
      "                        HOMEPmon P1   2: no2 o3\n",
      "       mon XY-Plev39hm    -------- ---   2\n",
      "\n",
      "       mon --------    -------- ---   3\n",
      "\n",
      "\n",
      "---------- --------    -------- ---   3\n"
     ]
    }
   ],
   "source": [
    "my_outdir=\"./dr2xml_output/exercices/exe3c/\"\n",
    "generate_file_defs(lset, sset,year=\"1900\", enddate=\"2014\", context=my_context,\n",
    "                    pingfiles=my_pingfile, printout=True, \n",
    "                    cvs_path=my_cvpath,dummies='skip', dirname=my_outdir)"
   ]
  },
  {
   "cell_type": "markdown",
   "metadata": {},
   "source": [
    "### (d_sol1) add a non-cmip variable introducing a new table :  pblh_monExe3 ['extra' type]"
   ]
  },
  {
   "cell_type": "code",
   "execution_count": 20,
   "metadata": {},
   "outputs": [],
   "source": [
    "sset.update({\"listof_home_vars\" : \"./home_data_request/exercices/exe3/home_data_request_d_extra.txt\"})"
   ]
  },
  {
   "cell_type": "code",
   "execution_count": 21,
   "metadata": {},
   "outputs": [
    {
     "name": "stdout",
     "output_type": "stream",
     "text": [
      "#------------------------------------------------------------------------------------------------------------------------------------------------------\r\n",
      "#TYPE;    VARNAME;         REALM;     FREQUENCY;     TABLE;                     TEMPORAL_SHP;         SPATIAL_SHP;       EXPNAME;            MIP\r\n",
      "#------------------------------------------------------------------------------------------------------------------------------------------------------\r\n",
      "# (d) requesting a totally new variable, that is NOT defined in the CMIP6 standards\r\n",
      "extra;  pblh;             atmos;      mon;           TRAINING_monExe3;           ANY;                  ANY;               ANY;                ANY\r\n"
     ]
    }
   ],
   "source": [
    "!cat \"./home_data_request/exercices/exe3/home_data_request_d_extra.txt\""
   ]
  },
  {
   "cell_type": "code",
   "execution_count": 22,
   "metadata": {},
   "outputs": [],
   "source": [
    "sset.update({\"path_extra_tables\": \"./Tables/exercices/exe3/\"})"
   ]
  },
  {
   "cell_type": "code",
   "execution_count": 23,
   "metadata": {},
   "outputs": [
    {
     "name": "stdout",
     "output_type": "stream",
     "text": [
      "        \"pblh\": {\r\n",
      "            \"frequency\": \"mon\",\r\n",
      "            \"modeling_realm\": \"atmos\",\r\n",
      "            \"units\": \"m\",\r\n",
      "            \"cell_methods\": \"area: time: mean\",\r\n",
      "            \"cell_measures\": \"area: areacella\",\r\n",
      "            \"long_name\": \"Planetary Boundary Layer Height\",\r\n",
      "            \"comment\": \"\",\r\n",
      "            \"dimensions\": \"longitude latitude time\",\r\n",
      "            \"out_name\": \"pblh\",\r\n",
      "            \"type\": \"real\",\r\n",
      "            \"positive\": \"\",\r\n",
      "            \"valid_min\": \"\",\r\n",
      "            \"valid_max\": \"\",\r\n",
      "            \"ok_min_mean_abs\": \"\",\r\n",
      "            \"ok_max_mean_abs\": \"\",\r\n",
      "            \"training_priority\": \"1\"\r\n",
      "        }\r\n",
      "    }\r\n"
     ]
    }
   ],
   "source": [
    "!grep -A 9 pblh ./Tables/exercices/exe3/TRAINING_monExe3.json"
   ]
  },
  {
   "cell_type": "code",
   "execution_count": 24,
   "metadata": {},
   "outputs": [],
   "source": [
    "# New there ! the new (i.e. non-cmor) defined in fields_def and ping_file\n",
    "lset.update({\"path_to_parse\":\"./xml_input/exercices/exe3/\",})\n",
    "my_pingfile=lset[\"path_to_parse\"]+\"ping_\"+my_context+\".xml\""
   ]
  },
  {
   "cell_type": "code",
   "execution_count": 25,
   "metadata": {},
   "outputs": [
    {
     "name": "stdout",
     "output_type": "stream",
     "text": [
      "        <field id=\"pblh\"        long_name=\"planetary_boundary_layer_depth\"                                      unit=\"m\"/>\r\n"
     ]
    }
   ],
   "source": [
    "!grep pblh ./xml_input/exercices/exe3/atmo_fields.xml"
   ]
  },
  {
   "cell_type": "code",
   "execution_count": 26,
   "metadata": {},
   "outputs": [
    {
     "name": "stdout",
     "output_type": "stream",
     "text": [
      "   <field id=\"CMIP6_pblh\"          field_ref=\"pblh\"              /> <!-- P1 (m) planetary_boundary_layer_height : needed by V.Rousseau@CERFACS -->\r\n"
     ]
    }
   ],
   "source": [
    "!grep pblh ./xml_input/exercices/exe3/ping_surfex.xml"
   ]
  },
  {
   "cell_type": "code",
   "execution_count": 27,
   "metadata": {
    "scrolled": true
   },
   "outputs": [
    {
     "name": "stdout",
     "output_type": "stream",
     "text": [
      "\n",
      "**************************************************\n",
      "\n",
      "Processing context  surfex\n",
      "\n",
      "**************************************************\n",
      "\n",
      "Filtering for experiment historical, covering years [ 1850.0 , 2014.0 ] in DR\n",
      "Number of Request Links which apply to experiment historical member 1 and MIPs ['CMIP', 'OMIP'] is: 17\n",
      "Number of (CMOR variable, grid) pairs for these requestLinks is :383\n",
      "Number once filtered by excluded/included vars and tables and spatial shapes is : 2\n",
      "Number of distinct CMOR variables (whatever the grid) : 1\n",
      "Number of distinct var labels is : 1\n",
      "Number of simplified vars is : 1\n",
      "Issues with standard names are : []\n",
      "homevars file: ./home_data_request/exercices/exe3/home_data_request_d_extra.txt\n",
      "For extra table TRAINING_monExe3 (which has 1 variables): \n",
      "\tVariables which dim was found in extra coordinates table:\n",
      "\n",
      "\tDynamical XY-xxx spatial shapes (shapes not found in DR):\n",
      "\n",
      "Number of 'cmor', 'dev' and 'perso' among home variables: 0\n",
      "Number of 'extra' among home variables: 1\n",
      "homevars list: pblh\n",
      "\n",
      "Realms for these CMORvars : atmos\n",
      "Processing realm 'atmos' of context 'surfex'\n",
      "Processing realm 'atmos atmosChem' of context 'surfex'\n",
      "Processing realm 'atmosChem' of context 'surfex'\n",
      "Processing realm 'aerosol' of context 'surfex'\n",
      "Processing realm 'atmos land' of context 'surfex'\n",
      "Processing realm 'land' of context 'surfex'\n",
      "Processing realm 'landIce land' of context 'surfex'\n",
      "Processing realm 'land landIce' of context 'surfex'\n",
      "Processing realm 'landIce' of context 'surfex'\n",
      "processing file ./xml_input/exercices/exe3/ping_surfex.xml :\n",
      "OK ./xml_input/exercices/exe3/ping_surfex.xml\n",
      "warning: branch_time_in_parent not in dic and default is None\n",
      "warning: branch_time_in_parent not in dic and default is None\n",
      "\n",
      "file_def written as ./dr2xml_output/exercices/exe3d_extra/dr2xml_surfex.xml\n",
      "\n",
      "\n",
      "Some Statistics on actually written variables per frequency+shape...\n",
      "                            Amon P1   1: tas\n",
      "                         monExe3 P1   1: pblh\n",
      "       mon    XY-na    -------- ---   2\n",
      "\n",
      "       mon --------    -------- ---   2\n",
      "\n",
      "\n",
      "---------- --------    -------- ---   2\n"
     ]
    }
   ],
   "source": [
    "my_outdir=\"./dr2xml_output/exercices/exe3d_extra/\"\n",
    "generate_file_defs(lset, sset,year=\"1900\", enddate=\"2014\", context=my_context,\n",
    "                    pingfiles=my_pingfile, printout=True, \n",
    "                    cvs_path=my_cvpath,dummies='skip', dirname=my_outdir)"
   ]
  },
  {
   "cell_type": "markdown",
   "metadata": {},
   "source": [
    "### (d_sol2) add a non-cmip variable without introducing new table : pblh_NONE ['perso' type] -----> ISSUE : la solution perso ne marche pas..."
   ]
  },
  {
   "cell_type": "code",
   "execution_count": 28,
   "metadata": {},
   "outputs": [],
   "source": [
    "sset.update({\"listof_home_vars\" : \"./home_data_request/exercices/exe3/home_data_request_d_perso.txt\"})\n",
    "#ISSUE: En déclarant la nouvelle variable en 'perso' ca ne la sort pas (pourtant elle est dans le ping):\n",
    "#Skipped variables (i.e. whose alias is not present in the pingfile):\n",
    "#>>> TABLE:            NONE 01/01 ----> pblh(1)\n",
    "#si demande plusieurs perso, skippe toujours la dernière mais ne sort pas pour autant les autres...\n",
    "# Pour ce problème, CMIP6_maxpblz et CMIP6_minpblz sont des variables dummies et on demande de ne pas les garder ;-)\n",
    "# Il faut modifier le pingfile pour que ça fonctionne"
   ]
  },
  {
   "cell_type": "code",
   "execution_count": 29,
   "metadata": {},
   "outputs": [
    {
     "name": "stdout",
     "output_type": "stream",
     "text": [
      "#------------------------------------------------------------------------------------------------------------------------------------------------------\r\n",
      "#TYPE;    VARNAME;         REALM;     FREQUENCY;     TABLE;                     TEMPORAL_SHP;         SPATIAL_SHP;       EXPNAME;            MIP\r\n",
      "#------------------------------------------------------------------------------------------------------------------------------------------------------\r\n",
      "# (d) requesting a totally new variable, that is NOT defined in the CMIP6 standards\r\n",
      "perso;  CMIP6_pblh;             atmos;      mon;           NONE;                        time-mean;           XY-na;             ANY;                ANY\r\n",
      "perso;  CMIP6_minpblz;         atmos;      mon;           NONE;                        time-mean;           XY-na;             ANY;                ANY\r\n",
      "perso;  CMIP6_maxpblz;         atmos;      mon;           NONE;                        time-mean;           XY-na;             ANY;                ANY\r\n"
     ]
    }
   ],
   "source": [
    "!cat \"./home_data_request/exercices/exe3/home_data_request_d_perso.txt\""
   ]
  },
  {
   "cell_type": "code",
   "execution_count": 30,
   "metadata": {
    "scrolled": true
   },
   "outputs": [
    {
     "name": "stdout",
     "output_type": "stream",
     "text": [
      "\n",
      "**************************************************\n",
      "\n",
      "Processing context  surfex\n",
      "\n",
      "**************************************************\n",
      "\n",
      "Filtering for experiment historical, covering years [ 1850.0 , 2014.0 ] in DR\n",
      "Number of Request Links which apply to experiment historical member 1 and MIPs ['CMIP', 'OMIP'] is: 17\n",
      "Number of (CMOR variable, grid) pairs for these requestLinks is :383\n",
      "Number once filtered by excluded/included vars and tables and spatial shapes is : 2\n",
      "Number of distinct CMOR variables (whatever the grid) : 1\n",
      "Number of distinct var labels is : 1\n",
      "Number of simplified vars is : 1\n",
      "Issues with standard names are : []\n",
      "homevars file: ./home_data_request/exercices/exe3/home_data_request_d_perso.txt\n",
      "Number of 'cmor', 'dev' and 'perso' among home variables: 3\n",
      "Number of 'extra' among home variables: 0\n",
      "homevars list: CMIP6_pblh CMIP6_minpblz CMIP6_maxpblz\n",
      "\n",
      "Realms for these CMORvars : atmos\n",
      "Processing realm 'atmos' of context 'surfex'\n",
      "Processing realm 'atmos atmosChem' of context 'surfex'\n",
      "Processing realm 'atmosChem' of context 'surfex'\n",
      "Processing realm 'aerosol' of context 'surfex'\n",
      "Processing realm 'atmos land' of context 'surfex'\n",
      "Processing realm 'land' of context 'surfex'\n",
      "Processing realm 'landIce land' of context 'surfex'\n",
      "Processing realm 'land landIce' of context 'surfex'\n",
      "Processing realm 'landIce' of context 'surfex'\n",
      "processing file ./xml_input/exercices/exe3/ping_surfex.xml :\n",
      "OK ./xml_input/exercices/exe3/ping_surfex.xml\n",
      "warning: branch_time_in_parent not in dic and default is None\n",
      "warning: branch_time_in_parent not in dic and default is None\n",
      "\n",
      "file_def written as ./dr2xml_output/exercices/exe3d_perso/dr2xml_surfex.xml\n",
      "\n",
      "Skipped variables (i.e. whose alias is not present in the pingfile):\n",
      ">>> TABLE:            NONE 02/03 ----> CMIP6_maxpblz(1) CMIP6_minpblz(1)\n",
      "\n",
      "\n",
      "\n",
      "\n",
      "Some Statistics on actually written variables per frequency+shape...\n",
      "                            Amon P1   1: tas\n",
      "                            NONE P1   1: CMIP6_pblh\n",
      "       mon    XY-na    -------- ---   2\n",
      "\n",
      "       mon --------    -------- ---   2\n",
      "\n",
      "\n",
      "---------- --------    -------- ---   2\n"
     ]
    }
   ],
   "source": [
    "my_outdir=\"./dr2xml_output/exercices/exe3d_perso/\"\n",
    "generate_file_defs(lset, sset,year=\"1900\", enddate=\"2014\", context=my_context,\n",
    "                    pingfiles=my_pingfile, printout=True, \n",
    "                    cvs_path=my_cvpath,dummies='skip', dirname=my_outdir)"
   ]
  },
  {
   "cell_type": "markdown",
   "metadata": {},
   "source": [
    "### (e) add a non-cmip variable only defined in the field def on an already defined grid ['dev' type]"
   ]
  },
  {
   "cell_type": "code",
   "execution_count": 6,
   "metadata": {},
   "outputs": [],
   "source": [
    "sset.update({\"listof_home_vars\" : \"./home_data_request/exercices/exe3/home_data_request_e.txt\"})"
   ]
  },
  {
   "cell_type": "code",
   "execution_count": 7,
   "metadata": {},
   "outputs": [
    {
     "name": "stdout",
     "output_type": "stream",
     "text": [
      "#--------------------------------------------------------------------------------------------------------------------------------------------------------------------------\r\n",
      "#TYPE; VARNAME;   REALM;  FREQUENCY; TABLE;    TEMPORAL_SHP; SPATIAL_SHP; EXPNAME; MIP; UNITS;       LONG_NAME;                 STD_NAME;                  GRID_ID; GRID_REF\r\n",
      "#--------------------------------------------------------------------------------------------------------------------------------------------------------------------------\r\n",
      "# (e) requesting a totally new variable, that is NOT defined in the CMIP6 standards and which can be not defined in any other input file\r\n",
      "# To be used with XIOS, the variables must be implemented in the model in order to be output.\r\n",
      "#\r\n",
      "# (e1) output a variable which is present in the field def but nowhere else on a defined grid\r\n",
      "dev;   wg_patch1; atmos;  day;       CNRM_day; time-mean;    XY-na;       ANY;     ANY;  m3 m-3;     soil liquid water content by patch over land; soil liquid water; NATURE;    NATURE_grid\r\n"
     ]
    }
   ],
   "source": [
    "!cat \"./home_data_request/exercices/exe3/home_data_request_e.txt\""
   ]
  },
  {
   "cell_type": "code",
   "execution_count": 8,
   "metadata": {},
   "outputs": [
    {
     "name": "stdout",
     "output_type": "stream",
     "text": [
      "\n",
      "**************************************************\n",
      "\n",
      "Processing context  surfex\n",
      "\n",
      "**************************************************\n",
      "\n",
      "Filtering for experiment historical, covering years [ 1850.0 , 2014.0 ] in DR\n",
      "Number of Request Links which apply to experiment historical member 1 and MIPs ['CMIP', 'OMIP'] is: 17\n",
      "Number of (CMOR variable, grid) pairs for these requestLinks is :383\n",
      "Number once filtered by excluded/included vars and tables and spatial shapes is : 2\n",
      "Number of distinct CMOR variables (whatever the grid) : 1\n",
      "Number of distinct var labels is : 1\n",
      "Number of simplified vars is : 1\n",
      "Issues with standard names are : []\n",
      "homevars file: ./home_data_request/exercices/exe3/home_data_request_e.txt\n",
      "Number of 'cmor', 'dev' and 'perso' among home variables: 1\n",
      "Number of 'extra' among home variables: 0\n",
      "homevars list: wg_patch1\n",
      "\n",
      "Realms for these CMORvars : atmos\n",
      "Processing realm 'atmos' of context 'surfex'\n",
      "Processing realm 'atmos atmosChem' of context 'surfex'\n",
      "Processing realm 'atmosChem' of context 'surfex'\n",
      "Processing realm 'aerosol' of context 'surfex'\n",
      "Processing realm 'atmos land' of context 'surfex'\n",
      "Processing realm 'land' of context 'surfex'\n",
      "Processing realm 'landIce land' of context 'surfex'\n",
      "Processing realm 'land landIce' of context 'surfex'\n",
      "Processing realm 'landIce' of context 'surfex'\n",
      "processing file /home/rigoudyg/dev/DR2XML/dr2xml_training/settings/exercices/exe3/../../../xml_input/basics/ping_surfex.xml :\n",
      "OK /home/rigoudyg/dev/DR2XML/dr2xml_training/settings/exercices/exe3/../../../xml_input/basics/ping_surfex.xml\n",
      "warning: branch_time_in_parent not in dic and default is None\n",
      "warning: branch_time_in_parent not in dic and default is None\n",
      "\n",
      "file_def written as ./dr2xml_output/exercices/exe3e/dr2xml_surfex.xml\n",
      "\n",
      "\n",
      "Some Statistics on actually written variables per frequency+shape...\n",
      "                            Amon P1   1: tas\n",
      "       mon    XY-na    -------- ---   1\n",
      "\n",
      "       mon --------    -------- ---   1\n",
      "\n",
      "                             day P1   1: wg_patch1\n",
      "       day    XY-na    -------- ---   1\n",
      "\n",
      "       day --------    -------- ---   1\n",
      "\n",
      "\n",
      "---------- --------    -------- ---   2\n"
     ]
    }
   ],
   "source": [
    "my_outdir=\"./dr2xml_output/exercices/exe3e/\"\n",
    "generate_file_defs(lset, sset,year=\"1900\", enddate=\"2014\", context=my_context,\n",
    "                    pingfiles=my_pingfile, printout=True, \n",
    "                    cvs_path=my_cvpath,dummies='skip', dirname=my_outdir)"
   ]
  },
  {
   "cell_type": "markdown",
   "metadata": {},
   "source": [
    "### (f) add a non-cmip variable not defined in xml files which has a known shape on an already defined grid ['dev' type]"
   ]
  },
  {
   "cell_type": "code",
   "execution_count": 18,
   "metadata": {},
   "outputs": [],
   "source": [
    "my_context=\"nemo\"\n",
    "my_pingfile=lset[\"path_to_parse\"]+\"ping_\"+my_context+\".xml\"\n",
    "sset.update({\"listof_home_vars\" : \"./home_data_request/exercices/exe3/home_data_request_f.txt\"})"
   ]
  },
  {
   "cell_type": "code",
   "execution_count": 19,
   "metadata": {},
   "outputs": [
    {
     "name": "stdout",
     "output_type": "stream",
     "text": [
      "#--------------------------------------------------------------------------------------------------------------------------------------------------------------------------\r\n",
      "#TYPE; VARNAME;   REALM;  FREQUENCY; TABLE;    TEMPORAL_SHP; SPATIAL_SHP; EXPNAME; MIP; UNITS;       LONG_NAME;                 STD_NAME;                  GRID_ID; GRID_REF\r\n",
      "#--------------------------------------------------------------------------------------------------------------------------------------------------------------------------\r\n",
      "# (e) requesting a totally new variable, that is NOT defined in the CMIP6 standards and which can be not defined in any other input file\r\n",
      "# To be used with XIOS, the variables must be implemented in the model in order to be output.\r\n",
      "#\r\n",
      "# (e2) output a variable which is not present in any file but has a known shape on a defined grid\r\n",
      "dev;   hmv1;  ocean;   day;   CNRM_day; time-mean; XY-na; ANY; ANY; my_units; my_long_name; my_std_name; grid_T; grid_T_2D"
     ]
    }
   ],
   "source": [
    "!cat \"./home_data_request/exercices/exe3/home_data_request_f.txt\""
   ]
  },
  {
   "cell_type": "code",
   "execution_count": 20,
   "metadata": {},
   "outputs": [
    {
     "name": "stdout",
     "output_type": "stream",
     "text": [
      "\n",
      "**************************************************\n",
      "\n",
      "Processing context  nemo\n",
      "\n",
      "**************************************************\n",
      "\n",
      "Filtering for experiment historical, covering years [ 1850.0 , 2014.0 ] in DR\n",
      "Number of Request Links which apply to experiment historical member 1 and MIPs ['CMIP', 'OMIP'] is: 17\n",
      "Number of (CMOR variable, grid) pairs for these requestLinks is :383\n",
      "Number once filtered by excluded/included vars and tables and spatial shapes is : 2\n",
      "Number of distinct CMOR variables (whatever the grid) : 1\n",
      "Number of distinct var labels is : 1\n",
      "Number of simplified vars is : 1\n",
      "Issues with standard names are : []\n",
      "homevars file: ./home_data_request/exercices/exe3/home_data_request_f.txt\n",
      "Number of 'cmor', 'dev' and 'perso' among home variables: 1\n",
      "Number of 'extra' among home variables: 0\n",
      "homevars list: hmv1\n",
      "\n",
      "Realms for these CMORvars : atmos ocean\n",
      "Processing realm 'seaIce' of context 'nemo'\n",
      "Processing realm 'ocean' of context 'nemo'\n",
      "Processing realm 'ocean seaIce' of context 'nemo'\n",
      "Processing realm 'ocnBgChem' of context 'nemo'\n",
      "Processing realm 'seaIce ocean' of context 'nemo'\n",
      "processing file /home/rigoudyg/dev/DR2XML/dr2xml_training/settings/exercices/exe3/../../../xml_input/basics/ping_nemo.xml :\n",
      "OK /home/rigoudyg/dev/DR2XML/dr2xml_training/settings/exercices/exe3/../../../xml_input/basics/ping_nemo.xml\n",
      "warning: branch_time_in_parent not in dic and default is None\n",
      "\n",
      "file_def written as ./dr2xml_output/exercices/exe3f/dr2xml_nemo.xml\n",
      "\n",
      "\n",
      "Some Statistics on actually written variables per frequency+shape...\n",
      "                             day P1   1: hmv1\n",
      "       day    XY-na    -------- ---   1\n",
      "\n",
      "       day --------    -------- ---   1\n",
      "\n",
      "\n",
      "---------- --------    -------- ---   1\n"
     ]
    }
   ],
   "source": [
    "my_outdir=\"./dr2xml_output/exercices/exe3f/\"\n",
    "generate_file_defs(lset, sset,year=\"1900\", enddate=\"2014\", context=my_context,\n",
    "                    pingfiles=my_pingfile, printout=True, \n",
    "                    cvs_path=my_cvpath,dummies='skip', dirname=my_outdir)"
   ]
  },
  {
   "cell_type": "markdown",
   "metadata": {},
   "source": [
    "### (g) add a non-cmip variable not defined in xml files which has a known shape on the native grid ['dev' type]"
   ]
  },
  {
   "cell_type": "code",
   "execution_count": 24,
   "metadata": {},
   "outputs": [],
   "source": [
    "my_context=\"surfex\"\n",
    "my_pingfile=lset[\"path_to_parse\"]+\"ping_\"+my_context+\".xml\"\n",
    "sset.update({\"listof_home_vars\" : \"./home_data_request/exercices/exe3/home_data_request_g.txt\"})"
   ]
  },
  {
   "cell_type": "code",
   "execution_count": 25,
   "metadata": {},
   "outputs": [
    {
     "name": "stdout",
     "output_type": "stream",
     "text": [
      "#--------------------------------------------------------------------------------------------------------------------------------------------------------------------------\r\n",
      "#TYPE; VARNAME;   REALM;  FREQUENCY; TABLE;    TEMPORAL_SHP; SPATIAL_SHP; EXPNAME; MIP; UNITS;       LONG_NAME;                 STD_NAME;                  GRID_ID; GRID_REF\r\n",
      "#--------------------------------------------------------------------------------------------------------------------------------------------------------------------------\r\n",
      "# (e) requesting a totally new variable, that is NOT defined in the CMIP6 standards and which can be not defined in any other input file\r\n",
      "# To be used with XIOS, the variables must be implemented in the model in order to be output.\r\n",
      "#\r\n",
      "# (e3) output a variable which is not present in any file but has a known shape on a native grid\r\n",
      "dev;   hmv3;      land;  day;       CNRM_day; time-mean;    XY-na;       ANY;     ANY ; hmv3_units; my_home_variable_3;        home_variable_3;           sfx_global;    native"
     ]
    }
   ],
   "source": [
    "!cat \"./home_data_request/exercices/exe3/home_data_request_g.txt\""
   ]
  },
  {
   "cell_type": "code",
   "execution_count": 26,
   "metadata": {},
   "outputs": [],
   "source": [
    "# Add native grid definition for hmv3\n",
    "lset[\"grids_dev\"] = {\n",
    "    'hmv3':{\n",
    "        'LR':{\n",
    "            'surfex':['gn', '', '', '250 km', 'native T127 reduced gaussian grid']\n",
    "        }\n",
    "    }\n",
    "}"
   ]
  },
  {
   "cell_type": "code",
   "execution_count": 42,
   "metadata": {},
   "outputs": [
    {
     "name": "stdout",
     "output_type": "stream",
     "text": [
      "\n",
      "**************************************************\n",
      "\n",
      "Processing context  nemo\n",
      "\n",
      "**************************************************\n",
      "\n",
      "Filtering for experiment historical, covering years [ 1850.0 , 2014.0 ] in DR\n",
      "Number of Request Links which apply to experiment historical member 1 and MIPs ['CMIP', 'OMIP'] is: 17\n",
      "Number of (CMOR variable, grid) pairs for these requestLinks is :383\n",
      "Number once filtered by excluded/included vars and tables and spatial shapes is : 2\n",
      "Number of distinct CMOR variables (whatever the grid) : 1\n",
      "Number of distinct var labels is : 1\n",
      "Number of simplified vars is : 1\n",
      "Issues with standard names are : []\n",
      "homevars file: ./home_data_request/exercices/exe3/home_data_request_h.txt\n",
      "Number of 'cmor', 'dev' and 'perso' among home variables: 1\n",
      "Number of 'extra' among home variables: 0\n",
      "homevars list: hmv4\n",
      "\n",
      "Realms for these CMORvars : atmos ocean\n",
      "Processing realm 'seaIce' of context 'nemo'\n",
      "Processing realm 'ocean' of context 'nemo'\n",
      "Processing realm 'ocean seaIce' of context 'nemo'\n",
      "Processing realm 'ocnBgChem' of context 'nemo'\n",
      "Processing realm 'seaIce ocean' of context 'nemo'\n",
      "processing file /home/rigoudyg/dev/DR2XML/dr2xml_training/settings/exercices/exe3/../../../xml_input/basics/ping_nemo.xml :\n",
      "OK /home/rigoudyg/dev/DR2XML/dr2xml_training/settings/exercices/exe3/../../../xml_input/basics/ping_nemo.xml\n",
      "Reading split_freqs from file ./data/splitfreqs.dat\n",
      "warning: branch_time_in_parent not in dic and default is None\n",
      "\n",
      "file_def written as ./dr2xml_output/exercices/exe3g/dr2xml_nemo.xml\n",
      "\n",
      "\n",
      "Some Statistics on actually written variables per frequency+shape...\n",
      "                             day P1   1: hmv4\n",
      "       day XY-perso    -------- ---   1\n",
      "\n",
      "       day --------    -------- ---   1\n",
      "\n",
      "\n",
      "---------- --------    -------- ---   1\n"
     ]
    }
   ],
   "source": [
    "my_outdir=\"./dr2xml_output/exercices/exe3g/\"\n",
    "generate_file_defs(lset, sset,year=\"1900\", enddate=\"2014\", context=my_context,\n",
    "                    pingfiles=my_pingfile, printout=True, \n",
    "                    cvs_path=my_cvpath,dummies='skip', dirname=my_outdir)"
   ]
  },
  {
   "cell_type": "markdown",
   "metadata": {},
   "source": [
    "### (h) add a non-cmip variable not defined in xml files which has an undefined shape on a defined grid ['dev' type]"
   ]
  },
  {
   "cell_type": "code",
   "execution_count": 43,
   "metadata": {},
   "outputs": [],
   "source": [
    "my_context=\"nemo\"\n",
    "my_pingfile=lset[\"path_to_parse\"]+\"ping_\"+my_context+\".xml\"\n",
    "sset.update({\"listof_home_vars\" : \"./home_data_request/exercices/exe3/home_data_request_h.txt\"})"
   ]
  },
  {
   "cell_type": "code",
   "execution_count": 44,
   "metadata": {},
   "outputs": [
    {
     "name": "stdout",
     "output_type": "stream",
     "text": [
      "#--------------------------------------------------------------------------------------------------------------------------------------------------------------------------\r\n",
      "#TYPE; VARNAME;   REALM;  FREQUENCY; TABLE;    TEMPORAL_SHP; SPATIAL_SHP; EXPNAME; MIP; UNITS;       LONG_NAME;                 STD_NAME;                  GRID_ID; GRID_REF\r\n",
      "#--------------------------------------------------------------------------------------------------------------------------------------------------------------------------\r\n",
      "# (e) requesting a totally new variable, that is NOT defined in the CMIP6 standards and which can be not defined in any other input file\r\n",
      "# To be used with XIOS, the variables must be implemented in the model in order to be output.\r\n",
      "#\r\n",
      "# (e4) output a variable which is not present in any file and which shape is undefined by default on a defined grid\r\n",
      "dev;   hmv4;      ocean;  day;       CNRM_day; time-mean;    XY-perso;    ANY;     ANY;  hmv4_units; my_home_variable_4;        home_variable_4;           grid_T; grid_T_2D"
     ]
    }
   ],
   "source": [
    "!cat \"./home_data_request/exercices/exe3/home_data_request_h.txt\""
   ]
  },
  {
   "cell_type": "code",
   "execution_count": 45,
   "metadata": {},
   "outputs": [],
   "source": [
    "# Add split frequency\n",
    "sset['split_frequencies'] = './data/splitfreqs.dat'\n",
    "# Add personnal shape for hmv4\n",
    "sset['perso_sdims_description'] = {\n",
    "    'hmv4':{\n",
    "        'my_dimension':{\n",
    "            'stdname': 'my_stdname',\n",
    "            'long_name': 'my_long_name',\n",
    "            'positive': True,\n",
    "            'requested': '',\n",
    "            'value': '30 50 60',\n",
    "            'units': 'my_units',\n",
    "            'type': 'float'\n",
    "        }\n",
    "    }\n",
    "}"
   ]
  },
  {
   "cell_type": "code",
   "execution_count": 46,
   "metadata": {},
   "outputs": [
    {
     "name": "stdout",
     "output_type": "stream",
     "text": [
      "\n",
      "**************************************************\n",
      "\n",
      "Processing context  nemo\n",
      "\n",
      "**************************************************\n",
      "\n",
      "Filtering for experiment historical, covering years [ 1850.0 , 2014.0 ] in DR\n",
      "Number of Request Links which apply to experiment historical member 1 and MIPs ['CMIP', 'OMIP'] is: 17\n",
      "Number of (CMOR variable, grid) pairs for these requestLinks is :383\n",
      "Number once filtered by excluded/included vars and tables and spatial shapes is : 2\n",
      "Number of distinct CMOR variables (whatever the grid) : 1\n",
      "Number of distinct var labels is : 1\n",
      "Number of simplified vars is : 1\n",
      "Issues with standard names are : []\n",
      "homevars file: ./home_data_request/exercices/exe3/home_data_request_h.txt\n",
      "Number of 'cmor', 'dev' and 'perso' among home variables: 1\n",
      "Number of 'extra' among home variables: 0\n",
      "homevars list: hmv4\n",
      "\n",
      "Realms for these CMORvars : atmos ocean\n",
      "Processing realm 'seaIce' of context 'nemo'\n",
      "Processing realm 'ocean' of context 'nemo'\n",
      "Processing realm 'ocean seaIce' of context 'nemo'\n",
      "Processing realm 'ocnBgChem' of context 'nemo'\n",
      "Processing realm 'seaIce ocean' of context 'nemo'\n",
      "processing file /home/rigoudyg/dev/DR2XML/dr2xml_training/settings/exercices/exe3/../../../xml_input/basics/ping_nemo.xml :\n",
      "OK /home/rigoudyg/dev/DR2XML/dr2xml_training/settings/exercices/exe3/../../../xml_input/basics/ping_nemo.xml\n",
      "Reading split_freqs from file ./data/splitfreqs.dat\n",
      "warning: branch_time_in_parent not in dic and default is None\n",
      "\n",
      "file_def written as ./dr2xml_output/exercices/exe3h/dr2xml_nemo.xml\n",
      "\n",
      "\n",
      "Some Statistics on actually written variables per frequency+shape...\n",
      "                             day P1   1: hmv4\n",
      "       day XY-perso    -------- ---   1\n",
      "\n",
      "       day --------    -------- ---   1\n",
      "\n",
      "\n",
      "---------- --------    -------- ---   1\n"
     ]
    }
   ],
   "source": [
    "my_outdir=\"./dr2xml_output/exercices/exe3h/\"\n",
    "generate_file_defs(lset, sset,year=\"1900\", enddate=\"2014\", context=my_context,\n",
    "                    pingfiles=my_pingfile, printout=True, \n",
    "                    cvs_path=my_cvpath,dummies='skip', dirname=my_outdir)"
   ]
  },
  {
   "cell_type": "code",
   "execution_count": null,
   "metadata": {},
   "outputs": [],
   "source": []
  }
 ],
 "metadata": {
  "kernelspec": {
   "display_name": "Python 3",
   "language": "python",
   "name": "python3"
  },
  "language_info": {
   "codemirror_mode": {
    "name": "ipython",
    "version": 3
   },
   "file_extension": ".py",
   "mimetype": "text/x-python",
   "name": "python",
   "nbconvert_exporter": "python",
   "pygments_lexer": "ipython3",
   "version": "3.7.6"
  }
 },
 "nbformat": 4,
 "nbformat_minor": 2
}
