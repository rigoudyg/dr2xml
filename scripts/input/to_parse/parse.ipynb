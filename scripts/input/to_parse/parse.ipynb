{
 "cells": [
  {
   "cell_type": "code",
   "execution_count": 195,
   "metadata": {
    "collapsed": false
   },
   "outputs": [],
   "source": [
    "import xml.etree.ElementTree as ET\n",
    "from Xparse import init_context, id2grid\n"
   ]
  },
  {
   "cell_type": "code",
   "execution_count": 191,
   "metadata": {
    "collapsed": false
   },
   "outputs": [
    {
     "name": "stdout",
     "output_type": "stream",
     "text": [
      "grid_oce_3D\n",
      "\n"
     ]
    }
   ],
   "source": [
    "nemo=init_context('nemo',False)\n",
    "#print nemo.keys()\n",
    "grid=id2grid(\"CMIP6_O18sw\",nemo,True)\n",
    "print grid.attrib['id'] ; print"
   ]
  },
  {
   "cell_type": "code",
   "execution_count": 197,
   "metadata": {
    "collapsed": false
   },
   "outputs": [
    {
     "name": "stdout",
     "output_type": "stream",
     "text": [
      "Error : reference 'CMIP6_pblz' is invalid\n",
      "Error : reference 'CMIP6_pblz' is invalid\n",
      "Error : reference 'CMIP6_rv' is invalid\n",
      "Error : reference 'CMIP6_p1000' is invalid\n",
      "Error : reference 'CMIP6_pblz' is invalid\n",
      "Error : reference 'CMIP6_pblz' is invalid\n",
      "Error : reference 'CMIP6_rv' is invalid\n",
      "<grid id=\"grid_atm_3D\"> <domain domain_ref=\"domain_atm\" /> <axis axis_ref=\"axis_atm\" /> </grid>\n",
      "    \n",
      "<grid id=\"grid_atm_3D\"> <domain domain_ref=\"domain_atm\" /> <axis axis_ref=\"axis_autre\" /> </grid>\n",
      "    \n"
     ]
    }
   ],
   "source": [
    "arpsfx=init_context('arpsfx',False)\n",
    "grid=id2grid(\"CMIP6_cdnc\",arpsfx,True)\n",
    "if grid is not None: \n",
    "    #print \"Grid id is :\"+grid.attrib['id']\n",
    "    print ET.tostring(grid);     \n",
    "    grid_string=ET.tostring(grid)\n",
    "    new_grid_string=re.sub('axis_ref= *.([\\w_])*.','axis_ref=\"axis_autre\"',grid_string)\n",
    "    print new_grid_string"
   ]
  },
  {
   "cell_type": "code",
   "execution_count": null,
   "metadata": {
    "collapsed": false
   },
   "outputs": [],
   "source": []
  }
 ],
 "metadata": {
  "kernelspec": {
   "display_name": "Python 2",
   "language": "python",
   "name": "python2"
  },
  "language_info": {
   "codemirror_mode": {
    "name": "ipython",
    "version": 2
   },
   "file_extension": ".py",
   "mimetype": "text/x-python",
   "name": "python",
   "nbconvert_exporter": "python",
   "pygments_lexer": "ipython2",
   "version": "2.7.12"
  }
 },
 "nbformat": 4,
 "nbformat_minor": 0
}
