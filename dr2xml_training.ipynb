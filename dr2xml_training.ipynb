{
 "cells": [
  {
   "cell_type": "markdown",
   "metadata": {},
   "source": [
    "# Dr2xml training notebook"
   ]
  },
  {
   "cell_type": "markdown",
   "metadata": {},
   "source": [
    "> **Purpose:** Training notebook for a first contact with dr2xml: how to configure? how to run? <br>"
   ]
  },
  {
   "cell_type": "markdown",
   "metadata": {},
   "source": [
    "## **1. import CMIP6 Data Request**"
   ]
  },
  {
   "cell_type": "code",
   "execution_count": 1,
   "metadata": {},
   "outputs": [
    {
     "name": "stdout",
     "output_type": "stream",
     "text": [
      "01.00.32\n"
     ]
    }
   ],
   "source": [
    "from dreqPy import dreq\n",
    "dq = dreq.loadDreq()\n",
    "print(dq.version)"
   ]
  },
  {
   "cell_type": "markdown",
   "metadata": {},
   "source": [
    "## **2. import dr2xml**"
   ]
  },
  {
   "cell_type": "code",
   "execution_count": 2,
   "metadata": {},
   "outputs": [
    {
     "name": "stdout",
     "output_type": "stream",
     "text": [
      "\n",
      " ************************************************** \n",
      "*\n",
      "*              dr2xml version:  2.2\n",
      "*   CMIP6 conventions version:  v6.2.4\n",
      "*  CMIP6 Data Request version:  01.00.32\n",
      "\n",
      "*\n",
      " **************************************************\n"
     ]
    }
   ],
   "source": [
    "import six\n",
    "from dr2xml import generate_file_defs"
   ]
  },
  {
   "cell_type": "code",
   "execution_count": 3,
   "metadata": {},
   "outputs": [],
   "source": [
    "print_info = True"
   ]
  },
  {
   "cell_type": "code",
   "execution_count": 4,
   "metadata": {},
   "outputs": [],
   "source": [
    "def print_sorted_dict(my_dict):\n",
    "    for key in sorted(list(my_dict)):\n",
    "        value = my_dict[key]\n",
    "        if isinstance(value, six.string_types):\n",
    "            value = '\"%s\"' % value\n",
    "        else:\n",
    "            value = str(my_dict[key])\n",
    "        print(\"=\".join([key, value]))"
   ]
  },
  {
   "cell_type": "markdown",
   "metadata": {},
   "source": [
    "## 3. get Experiment settings"
   ]
  },
  {
   "cell_type": "code",
   "execution_count": 5,
   "metadata": {},
   "outputs": [],
   "source": [
    "from settings.basics.myEXPE_settings import simulation_settings as sset"
   ]
  },
  {
   "cell_type": "code",
   "execution_count": 6,
   "metadata": {},
   "outputs": [
    {
     "name": "stdout",
     "output_type": "stream",
     "text": [
      "branch_year_in_child=1850\n",
      "branch_year_in_parent=2600\n",
      "child_time_ref_year=1850\n",
      "comments={}\n",
      "configuration=\"AOGCM\"\n",
      "experiment_id=\"historical\"\n",
      "realization_index=1\n"
     ]
    }
   ],
   "source": [
    "if print_info:\n",
    "    print_sorted_dict(sset)"
   ]
  },
  {
   "cell_type": "markdown",
   "metadata": {},
   "source": [
    "## 4. get Lab settings"
   ]
  },
  {
   "cell_type": "code",
   "execution_count": 7,
   "metadata": {},
   "outputs": [],
   "source": [
    "from settings.basics.myLAB_settings import lab_and_model_settings as lset"
   ]
  },
  {
   "cell_type": "code",
   "execution_count": 8,
   "metadata": {
    "scrolled": true
   },
   "outputs": [
    {
     "name": "stdout",
     "output_type": "stream",
     "text": [
      "branching={}\n",
      "bytes_per_float=2.4\n",
      "comments={}\n",
      "compression_level=4\n",
      "configurations={'AOGCM': ('CNRM-CM6-1', 'AOGCM', []), 'AOESM': ('CNRM-ESM2-1', 'AOGCM BGC AER CHEM', [])}\n",
      "debug_parsing=False\n",
      "excluded_request_links=['RFMIP-AeroIrf']\n",
      "excluded_spshapes=['XYA-na', 'XYG-na']\n",
      "excluded_vars=['']\n",
      "grid_choice={'CNRM-CM6-1': 'LR', 'CNRM-CM6-1-HR': 'HR', 'CNRM-ESM2-1': 'LR', 'CNRM-ESM2-1-HR': 'HR'}\n",
      "grid_policy=\"adhoc\"\n",
      "grids={'LR': {'surfex': ['gr', 'complete', 'glat', '250 km', 'data regridded to a T127 gaussian grid (128x256 latlon) from a native atmosphere T127l reduced gaussian grid'], 'trip': ['gn', '', '', '50 km', 'regular 1/2 deg lat-lon grid'], 'nemo': ['gn', '', '', '100 km', 'native ocean tri-polar grid with 105 k ocean cells']}, 'HR': {'surfex': ['gr', 'complete', 'glat', '50 km', 'data regridded to a 359 gaussian grid (360x720 latlon) from a native atmosphere T359l reduced gaussian grid'], 'trip': ['gn', '', '', '50 km', 'regular 1/2 deg lat-lon grid'], 'nemo': ['gn', '', '', '25 km', 'native ocean tri-polar grid with 1.47 M ocean cells']}}\n",
      "info_url=\"\"\n",
      "institution_id=\"CNRM-CERFACS\"\n",
      "max_file_size_in_floats=4000000000.0\n",
      "max_priority=1\n",
      "mips={'LR': {'CMIP', 'OMIP'}, 'HR': {'CMIP'}}\n",
      "orphan_variables={}\n",
      "path_to_parse=\"/home/rigoudyg/dev/DR2XML/dr2xml_training/settings/basics/../../xml_input/basics/\"\n",
      "ping_variables_prefix=\"CMIP6_\"\n",
      "realms_per_context={'nemo': ['seaIce', 'ocean', 'ocean seaIce', 'ocnBgChem', 'seaIce ocean'], 'surfex': ['atmos', 'atmos atmosChem', 'atmosChem', 'aerosol', 'atmos land', 'land', 'landIce land', 'aerosol', 'land landIce', 'landIce'], 'trip': []}\n",
      "sampling_timestep={'LR': {'surfex': 900.0, 'nemo': 1800.0, 'trip': 1800.0}, 'HR': {'surfex': 900.0, 'nemo': 1800.0, 'trip': 1800.0}}\n",
      "sizes={'LR': [106428, 75, 32768, 91, 30, 14, 128], 'HR': [1514100, 75, 259200, 91, 30, 14, 128]}\n",
      "tierMax=1\n",
      "vertical_interpolation_sample_freq=\"\"\n"
     ]
    }
   ],
   "source": [
    "if print_info:\n",
    "    print_sorted_dict(lset)"
   ]
  },
  {
   "cell_type": "markdown",
   "metadata": {},
   "source": [
    "## 5. define useful paths"
   ]
  },
  {
   "cell_type": "markdown",
   "metadata": {},
   "source": [
    "### 5.1 path to the CMIP6 Controlled Vocabulary"
   ]
  },
  {
   "cell_type": "code",
   "execution_count": 9,
   "metadata": {},
   "outputs": [],
   "source": [
    "my_cvpath=\"./CMIP6_CVs/\""
   ]
  },
  {
   "cell_type": "markdown",
   "metadata": {},
   "source": [
    "### 5.2 path for dr2xml output"
   ]
  },
  {
   "cell_type": "code",
   "execution_count": 10,
   "metadata": {},
   "outputs": [],
   "source": [
    "my_outdir=\"./dr2xml_output/\""
   ]
  },
  {
   "cell_type": "markdown",
   "metadata": {},
   "source": [
    "## 6. execute Dr2xml"
   ]
  },
  {
   "cell_type": "markdown",
   "metadata": {},
   "source": [
    "### 6.1 select the context (realm)"
   ]
  },
  {
   "cell_type": "code",
   "execution_count": 11,
   "metadata": {},
   "outputs": [],
   "source": [
    "my_context=\"surfex\"\n",
    "my_pingfile=lset[\"path_to_parse\"]+\"ping_\"+my_context+\".xml\""
   ]
  },
  {
   "cell_type": "markdown",
   "metadata": {},
   "source": [
    "### 6.2 generate the file_def XML for XIOS"
   ]
  },
  {
   "cell_type": "code",
   "execution_count": 12,
   "metadata": {},
   "outputs": [],
   "source": [
    "lset.update({'print_stats_per_var_label' : False})"
   ]
  },
  {
   "cell_type": "code",
   "execution_count": 13,
   "metadata": {
    "scrolled": true
   },
   "outputs": [
    {
     "name": "stdout",
     "output_type": "stream",
     "text": [
      "\n",
      "**************************************************\n",
      "\n",
      "Processing context  surfex\n",
      "\n",
      "**************************************************\n",
      "\n",
      "Number of Request Links which apply to MIPS ['CMIP', 'OMIP']  is: 25\n",
      "Number of Request Links after filtering by excluded_request_links is: 25\n",
      "Number of Request Links after filtering by included_request_links is: 25\n",
      "Filtering for experiment historical, covering years [ 1850.0 , 2014.0 ] in DR\n",
      "Number of Request Links which apply to experiment historical member 1 and MIPs ['CMIP', 'OMIP'] is: 17\n",
      "Number of (CMOR variable, grid) pairs for these requestLinks is :383\n",
      "Number once filtered by excluded/included vars and tables and spatial shapes is : 383\n",
      "Number of distinct CMOR variables (whatever the grid) : 317\n",
      "Number of distinct var labels is : 278\n",
      "Number of simplified vars is : 317\n",
      "Issues with standard names are : []\n",
      "Info: No HOMEvars list provided.\n",
      "\n",
      "Realms for these CMORvars : atmos atmos atmosChem atmos land land land landIce landIce landIce land ocean ocean seaIce ocnBgchem seaIce seaIce ocean\n",
      "Processing realm 'atmos' of context 'surfex'\n",
      "Processing realm 'atmos atmosChem' of context 'surfex'\n",
      "Processing realm 'atmosChem' of context 'surfex'\n",
      "Processing realm 'aerosol' of context 'surfex'\n",
      "Processing realm 'atmos land' of context 'surfex'\n",
      "Processing realm 'land' of context 'surfex'\n",
      "Processing realm 'landIce land' of context 'surfex'\n",
      "Processing realm 'land landIce' of context 'surfex'\n",
      "Processing realm 'landIce' of context 'surfex'\n",
      "processing file /home/rigoudyg/dev/DR2XML/dr2xml_training/settings/basics/../../xml_input/basics/ping_surfex.xml :\n",
      "OK /home/rigoudyg/dev/DR2XML/dr2xml_training/settings/basics/../../xml_input/basics/ping_surfex.xml\n",
      "warning: branch_time_in_parent not in dic and default is None\n",
      "warning: branch_time_in_parent not in dic and default is None\n",
      "Cannot yet compute annual climatology for         ch4Clim in table Amon -> averaging\n",
      "warning: branch_time_in_parent not in dic and default is None\n",
      "Cannot yet compute annual climatology for         ch4Clim in table Amon -> averaging\n",
      "Duplicate variable ch4,ch4 in table Amon is skipped, preferred is ch4Clim\n",
      "Cannot yet compute annual climatology for   ch4globalClim in table Amon -> averaging\n",
      "warning: branch_time_in_parent not in dic and default is None\n",
      "Cannot yet compute annual climatology for   ch4globalClim in table Amon -> averaging\n",
      "Duplicate variable ch4global,ch4global in table Amon is skipped, preferred is ch4globalClim\n",
      "warning: branch_time_in_parent not in dic and default is None\n",
      "warning: branch_time_in_parent not in dic and default is None\n",
      "warning: branch_time_in_parent not in dic and default is None\n",
      "warning: branch_time_in_parent not in dic and default is None\n",
      "warning: branch_time_in_parent not in dic and default is None\n",
      "warning: branch_time_in_parent not in dic and default is None\n",
      "warning: branch_time_in_parent not in dic and default is None\n",
      "Cannot yet compute annual climatology for         co2Clim in table Amon -> averaging\n",
      "warning: branch_time_in_parent not in dic and default is None\n",
      "Cannot yet compute annual climatology for         co2Clim in table Amon -> averaging\n",
      "Duplicate variable co2,co2 in table Amon is skipped, preferred is co2Clim\n",
      "Cannot yet compute annual climatology for     co2massClim in table Amon -> averaging\n",
      "warning: branch_time_in_parent not in dic and default is None\n",
      "Cannot yet compute annual climatology for     co2massClim in table Amon -> averaging\n",
      "Duplicate variable co2mass,co2mass in table Amon is skipped, preferred is co2massClim\n",
      "warning: branch_time_in_parent not in dic and default is None\n",
      "warning: branch_time_in_parent not in dic and default is None\n",
      "warning: branch_time_in_parent not in dic and default is None\n",
      "warning: branch_time_in_parent not in dic and default is None\n",
      "warning: branch_time_in_parent not in dic and default is None\n",
      "warning: branch_time_in_parent not in dic and default is None\n",
      "warning: branch_time_in_parent not in dic and default is None\n",
      "warning: branch_time_in_parent not in dic and default is None\n",
      "warning: branch_time_in_parent not in dic and default is None\n",
      "warning: branch_time_in_parent not in dic and default is None\n",
      "warning: branch_time_in_parent not in dic and default is None\n",
      "Cannot yet compute annual climatology for         n2oClim in table Amon -> averaging\n",
      "warning: branch_time_in_parent not in dic and default is None\n",
      "Cannot yet compute annual climatology for         n2oClim in table Amon -> averaging\n",
      "Duplicate variable n2o,n2o in table Amon is skipped, preferred is n2oClim\n",
      "Cannot yet compute annual climatology for   n2oglobalClim in table Amon -> averaging\n",
      "warning: branch_time_in_parent not in dic and default is None\n",
      "Cannot yet compute annual climatology for   n2oglobalClim in table Amon -> averaging\n",
      "Duplicate variable n2oglobal,n2oglobal in table Amon is skipped, preferred is n2oglobalClim\n",
      "Cannot yet compute annual climatology for          o3Clim in table Amon -> averaging\n",
      "warning: branch_time_in_parent not in dic and default is None\n",
      "Cannot yet compute annual climatology for          o3Clim in table Amon -> averaging\n",
      "Duplicate variable o3,o3 in table Amon is skipped, preferred is o3Clim\n",
      "Cannot yet compute annual climatology for           pfull in table Amon -> averaging\n",
      "warning: branch_time_in_parent not in dic and default is None\n",
      "Cannot yet compute annual climatology for           pfull in table Amon -> averaging\n",
      "Cannot yet compute annual climatology for           phalf in table Amon -> averaging\n",
      "warning: branch_time_in_parent not in dic and default is None\n",
      "Cannot yet compute annual climatology for           phalf in table Amon -> averaging\n",
      "warning: branch_time_in_parent not in dic and default is None\n",
      "warning: branch_time_in_parent not in dic and default is None\n",
      "warning: branch_time_in_parent not in dic and default is None\n",
      "warning: branch_time_in_parent not in dic and default is None\n",
      "warning: branch_time_in_parent not in dic and default is None\n",
      "warning: branch_time_in_parent not in dic and default is None\n",
      "warning: branch_time_in_parent not in dic and default is None\n",
      "warning: branch_time_in_parent not in dic and default is None\n",
      "warning: branch_time_in_parent not in dic and default is None\n",
      "warning: branch_time_in_parent not in dic and default is None\n",
      "warning: branch_time_in_parent not in dic and default is None\n",
      "warning: branch_time_in_parent not in dic and default is None\n",
      "warning: branch_time_in_parent not in dic and default is None\n",
      "warning: branch_time_in_parent not in dic and default is None\n",
      "warning: branch_time_in_parent not in dic and default is None\n",
      "warning: branch_time_in_parent not in dic and default is None\n",
      "warning: branch_time_in_parent not in dic and default is None\n",
      "warning: branch_time_in_parent not in dic and default is None\n",
      "warning: branch_time_in_parent not in dic and default is None\n",
      "warning: branch_time_in_parent not in dic and default is None\n",
      "warning: branch_time_in_parent not in dic and default is None\n",
      "warning: branch_time_in_parent not in dic and default is None\n",
      "warning: branch_time_in_parent not in dic and default is None\n",
      "warning: branch_time_in_parent not in dic and default is None\n",
      "warning: branch_time_in_parent not in dic and default is None\n",
      "warning: branch_time_in_parent not in dic and default is None\n",
      "warning: branch_time_in_parent not in dic and default is None\n",
      "warning: branch_time_in_parent not in dic and default is None\n",
      "warning: branch_time_in_parent not in dic and default is None\n",
      "warning: branch_time_in_parent not in dic and default is None\n",
      "warning: branch_time_in_parent not in dic and default is None\n",
      "warning: branch_time_in_parent not in dic and default is None\n",
      "warning: branch_time_in_parent not in dic and default is None\n",
      "warning: branch_time_in_parent not in dic and default is None\n",
      "warning: branch_time_in_parent not in dic and default is None\n",
      "warning: branch_time_in_parent not in dic and default is None\n",
      "warning: branch_time_in_parent not in dic and default is None\n",
      "warning: branch_time_in_parent not in dic and default is None\n",
      "warning: branch_time_in_parent not in dic and default is None\n",
      "warning: branch_time_in_parent not in dic and default is None\n",
      "warning: branch_time_in_parent not in dic and default is None\n",
      "warning: branch_time_in_parent not in dic and default is None\n",
      "warning: branch_time_in_parent not in dic and default is None\n"
     ]
    },
    {
     "name": "stdout",
     "output_type": "stream",
     "text": [
      "warning: branch_time_in_parent not in dic and default is None\n",
      "warning: branch_time_in_parent not in dic and default is None\n",
      "warning: branch_time_in_parent not in dic and default is None\n",
      "warning: branch_time_in_parent not in dic and default is None\n",
      "warning: branch_time_in_parent not in dic and default is None\n",
      "warning: branch_time_in_parent not in dic and default is None\n",
      "warning: branch_time_in_parent not in dic and default is None\n",
      "warning: branch_time_in_parent not in dic and default is None\n",
      "Will not explicitly handle time: mean (with samples weighted by snow mass) for          agesno in table LImon -> averaging\n",
      "warning: branch_time_in_parent not in dic and default is None\n",
      "Will not explicitly handle time: mean (with samples weighted by snow mass) for          agesno in table LImon -> averaging\n",
      "warning: branch_time_in_parent not in dic and default is None\n",
      "warning: branch_time_in_parent not in dic and default is None\n",
      "warning: branch_time_in_parent not in dic and default is None\n",
      "warning: branch_time_in_parent not in dic and default is None\n",
      "warning: branch_time_in_parent not in dic and default is None\n",
      "warning: branch_time_in_parent not in dic and default is None\n",
      "warning: branch_time_in_parent not in dic and default is None\n",
      "warning: branch_time_in_parent not in dic and default is None\n",
      "Will not explicitly handle time: mean (with samples weighted by snow mass) for             tsn in table LImon -> averaging\n",
      "warning: branch_time_in_parent not in dic and default is None\n",
      "Will not explicitly handle time: mean (with samples weighted by snow mass) for             tsn in table LImon -> averaging\n",
      "warning: branch_time_in_parent not in dic and default is None\n",
      "warning: branch_time_in_parent not in dic and default is None\n",
      "warning: branch_time_in_parent not in dic and default is None\n",
      "warning: branch_time_in_parent not in dic and default is None\n",
      "warning: branch_time_in_parent not in dic and default is None\n",
      "warning: branch_time_in_parent not in dic and default is None\n",
      "warning: branch_time_in_parent not in dic and default is None\n",
      "warning: branch_time_in_parent not in dic and default is None\n",
      "warning: branch_time_in_parent not in dic and default is None\n",
      "warning: branch_time_in_parent not in dic and default is None\n",
      "warning: branch_time_in_parent not in dic and default is None\n",
      "warning: branch_time_in_parent not in dic and default is None\n",
      "warning: branch_time_in_parent not in dic and default is None\n",
      "warning: branch_time_in_parent not in dic and default is None\n",
      "warning: branch_time_in_parent not in dic and default is None\n",
      "warning: branch_time_in_parent not in dic and default is None\n",
      "warning: branch_time_in_parent not in dic and default is None\n",
      "warning: branch_time_in_parent not in dic and default is None\n",
      "warning: branch_time_in_parent not in dic and default is None\n",
      "warning: branch_time_in_parent not in dic and default is None\n",
      "warning: branch_time_in_parent not in dic and default is None\n",
      "warning: branch_time_in_parent not in dic and default is None\n",
      "warning: branch_time_in_parent not in dic and default is None\n",
      "warning: branch_time_in_parent not in dic and default is None\n",
      "warning: branch_time_in_parent not in dic and default is None\n",
      "warning: branch_time_in_parent not in dic and default is None\n",
      "warning: branch_time_in_parent not in dic and default is None\n",
      "warning: branch_time_in_parent not in dic and default is None\n",
      "warning: branch_time_in_parent not in dic and default is None\n",
      "warning: branch_time_in_parent not in dic and default is None\n",
      "warning: branch_time_in_parent not in dic and default is None\n",
      "warning: branch_time_in_parent not in dic and default is None\n",
      "warning: branch_time_in_parent not in dic and default is None\n",
      "warning: branch_time_in_parent not in dic and default is None\n",
      "warning: branch_time_in_parent not in dic and default is None\n",
      "warning: branch_time_in_parent not in dic and default is None\n",
      "warning: branch_time_in_parent not in dic and default is None\n",
      "warning: branch_time_in_parent not in dic and default is None\n",
      "warning: branch_time_in_parent not in dic and default is None\n",
      "warning: branch_time_in_parent not in dic and default is None\n",
      "warning: branch_time_in_parent not in dic and default is None\n",
      "warning: branch_time_in_parent not in dic and default is None\n",
      "warning: branch_time_in_parent not in dic and default is None\n",
      "warning: branch_time_in_parent not in dic and default is None\n",
      "warning: branch_time_in_parent not in dic and default is None\n",
      "warning: branch_time_in_parent not in dic and default is None\n",
      "warning: branch_time_in_parent not in dic and default is None\n",
      "warning: branch_time_in_parent not in dic and default is None\n",
      "warning: branch_time_in_parent not in dic and default is None\n",
      "warning: branch_time_in_parent not in dic and default is None\n",
      "Warning: Cannot complement model levels with psol for variable zfull and table fx\n",
      "\n",
      "file_def written as ./dr2xml_output/dr2xml_surfex.xml\n",
      "\n",
      "Skipped variables (i.e. whose alias is not present in the pingfile):\n",
      ">>> TABLE:            Amon 02/71 ----> rtmt(1) sci(1)\n",
      "\n",
      ">>> TABLE:             Efx 01/02 ----> sftflf(1)\n",
      "\n",
      ">>> TABLE:            Emon 08/19 ----> mrsol(1) pastureFracC3(1) pastureFracC4(1) treeFracBdlDcd(1) treeFracBdlEvg(1) treeFracNdlDcd(1) treeFracNdlEvg(1) wetlandFrac(1)\n",
      "\n",
      ">>> TABLE:             Eyr 03/09 ----> fracInLut(1) fracOutLut(1) shrubFrac(1)\n",
      "\n",
      ">>> TABLE:           LImon 01/11 ----> sftflf(1)\n",
      "\n",
      ">>> TABLE:            Lmon 09/37 ----> fGrazing(1) fHarvest(1) fVegSoil(1) pastureFrac(1) shrubFrac(1) treeFracPrimDec(1) treeFracPrimEver(1) treeFracSecDec(1) treeFracSecEver(1)\n",
      "\n",
      ">>> TABLE:              fx 01/08 ----> areacellr(1)\n",
      "\n",
      "\n",
      "\n",
      "\n",
      "Some Statistics on actually written variables per frequency+shape...\n",
      "                            Amon P1  42: ccb cct ci clivi clt clwvi evspsbl fco2antt fco2fos fco2nat hfls hfss hurs huss pr prc prsn prw ps psl rlds rldscs rlus rlut rlutcs rsds rsdscs rsdt rsus rsuscs rsut rsutcs sbl sfcWind tas tasmax tasmin tauu tauv ts uas vas\n",
      "                            Emon P1  11: cSoil cropFracC3 cropFracC4 fLuc fracLut grassFracC3 grassFracC4 nep nwdFracLut orog vegFrac\n",
      "                           LImon P1  10: agesno hfdsn sbl sftgif sftgrf snc snd snm snw tsn\n",
      "                            Lmon P1  28: baresoilFrac burntFractionAll c3PftFrac c4PftFrac cLitter cProduct cVeg cropFrac evspsblsoi evspsblveg fFire fLitterSoil fVegLitter gpp grassFrac lai mrfso mrro mrros mrso mrsos nbp npp ra residualFrac rh tran treeFrac\n",
      "       mon    XY-na    -------- ---  91\n",
      "\n",
      "                            Amon P1   3: cl cli clw\n",
      "       mon     XY-A    -------- ---   3\n",
      "\n",
      "                            Amon P1   7: hur hus ta ua va wap zg\n",
      "       mon   XY-P19    -------- ---   7\n",
      "\n",
      "                            Amon P1   1: mc\n",
      "       mon    XY-AH    -------- ---   1\n",
      "\n",
      "       mon --------    -------- --- 102\n",
      "\n",
      "                            Amon P1   4: ch4Clim co2Clim n2oClim o3Clim\n",
      "      monC   XY-P19    -------- ---   4\n",
      "\n",
      "                            Amon P1   3: ch4globalClim co2massClim n2oglobalClim\n",
      "      monC    na-na    -------- ---   3\n",
      "\n",
      "                            Amon P1   1: pfull\n",
      "      monC     XY-A    -------- ---   1\n",
      "\n",
      "                            Amon P1   1: phalf\n",
      "      monC    XY-AH    -------- ---   1\n",
      "\n",
      "      monC --------    -------- ---   9\n",
      "\n",
      "                             Efx P1   1: sftgrf\n",
      "                              fx P1   6: areacella mrsofc orog rootd sftgif sftlf\n",
      "        fx    XY-na    -------- ---   7\n",
      "\n",
      "                              fx P1   1: zfull\n",
      "        fx     XY-A    -------- ---   1\n",
      "\n",
      "        fx --------    -------- ---   8\n",
      "\n",
      "                             Eyr P1   5: baresoilFrac cropFrac grassFrac treeFrac vegFrac\n",
      "        yr    XY-na    -------- ---   5\n",
      "\n",
      "        yr --------    -------- ---   5\n",
      "\n",
      "                             Eyr P1   1: fracLut\n",
      "      yrPt    XY-na    -------- ---   1\n",
      "\n",
      "      yrPt --------    -------- ---   1\n",
      "\n",
      "                             day P1  13: hurs hursmin huss mrso mrsos pr psl rlut sfcWind snc tas tasmax tasmin\n",
      "       day    XY-na    -------- ---  13\n",
      "\n",
      "                             day P1   2: ua va\n",
      "       day    XY-P8    -------- ---   2\n",
      "\n",
      "       day --------    -------- ---  15\n",
      "\n",
      "\n",
      "---------- --------    -------- --- 140\n",
      "\n",
      "Warnings about cell methods (with var list)\n",
      "\tCannot yet compute annual climatology - must do it as a postpro for vars : {'ch4Clim', 'ch4globalClim', 'co2Clim', 'co2massClim', 'n2oClim', 'n2oglobalClim', 'o3Clim', 'pfull', 'phalf'}\n"
     ]
    },
    {
     "name": "stdout",
     "output_type": "stream",
     "text": [
      "\tCannot yet handle time: mean (with samples weighted by snow mass) for vars : {'agesno', 'tsn'}\n"
     ]
    }
   ],
   "source": [
    "generate_file_defs(lset, sset,year=\"1900\", enddate=\"2014\", context=my_context,\n",
    "                    pingfiles=my_pingfile, printout=True, \n",
    "                    cvs_path=my_cvpath,dummies='skip', dirname=my_outdir)"
   ]
  },
  {
   "cell_type": "markdown",
   "metadata": {},
   "source": [
    "## 7. now let's play!  exercices in separated notebooks..."
   ]
  }
 ],
 "metadata": {
  "kernelspec": {
   "display_name": "Python 3",
   "language": "python",
   "name": "python3"
  },
  "language_info": {
   "codemirror_mode": {
    "name": "ipython",
    "version": 3
   },
   "file_extension": ".py",
   "mimetype": "text/x-python",
   "name": "python",
   "nbconvert_exporter": "python",
   "pygments_lexer": "ipython3",
   "version": "3.7.6"
  }
 },
 "nbformat": 4,
 "nbformat_minor": 2
}
