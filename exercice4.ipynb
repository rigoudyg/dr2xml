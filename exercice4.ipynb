{
 "cells": [
  {
   "cell_type": "markdown",
   "metadata": {},
   "source": [
    "# Exercice 4:  Run a non CMIP6 experiment"
   ]
  },
  {
   "cell_type": "markdown",
   "metadata": {},
   "source": [
    "> **Objective:** configure dr2xml for a non-cmip6 experiment "
   ]
  },
  {
   "cell_type": "markdown",
   "metadata": {},
   "source": [
    "## Importations and initial settings"
   ]
  },
  {
   "cell_type": "code",
   "execution_count": 1,
   "metadata": {},
   "outputs": [
    {
     "name": "stdout",
     "output_type": "stream",
     "text": [
      "01.00.32\n"
     ]
    }
   ],
   "source": [
    "from dreqPy import dreq\n",
    "dq = dreq.loadDreq()\n",
    "print(dq.version)"
   ]
  },
  {
   "cell_type": "code",
   "execution_count": 2,
   "metadata": {},
   "outputs": [
    {
     "name": "stdout",
     "output_type": "stream",
     "text": [
      "\n",
      " ************************************************** \n",
      "*\n",
      "*              dr2xml version:  2.1\n",
      "*   CMIP6 conventions version:  v6.2.4\n",
      "*  CMIP6 Data Request version:  01.00.32\n",
      "\n",
      "*\n",
      " **************************************************\n"
     ]
    }
   ],
   "source": [
    "import six, xlsxwriter\n",
    "from dr2xml import generate_file_defs"
   ]
  },
  {
   "cell_type": "code",
   "execution_count": 3,
   "metadata": {},
   "outputs": [],
   "source": [
    "from settings.exercices.exe4.myEXPE_settings import simulation_settings as sset\n",
    "from settings.exercices.exe4.myLAB_settings import lab_and_model_settings as lset"
   ]
  },
  {
   "cell_type": "code",
   "execution_count": 4,
   "metadata": {},
   "outputs": [],
   "source": [
    "my_cvpath=\"./CMIP6_CVs/\"\n",
    "my_context=\"surfex\"\n",
    "my_pingfile=lset[\"path_to_parse\"]+\"ping_\"+my_context+\".xml\""
   ]
  },
  {
   "cell_type": "markdown",
   "metadata": {},
   "source": [
    "## Exercice 4"
   ]
  },
  {
   "cell_type": "code",
   "execution_count": 5,
   "metadata": {},
   "outputs": [],
   "source": [
    "sset_changes={\n",
    "    # Experiment id to use for driving the use of the Data Request (default is experiment_id)\n",
    "    'experiment_for_requests' : \"highresSST-present\",\n",
    "    \"expid_in_filename\"     : \"primWP5-AMIPice\",\n",
    "    \"experiment\"            : \"PRIMAVERA/WP5 T5.2 Influence of Arctic sea ice and Siberian snow cover on European climate. AMIP experiment with perturbed sic and sst.\",\n",
    "    #\"description\"           : \"\",\n",
    "    \"mip_era\"               : \"PRIMAVERA\",   # set it only in special cases (e.g. PMIP warm start from CMIP5/PMIP3 experiment)\n",
    "    \"activity_id\"           : 'primWP5',\n",
    "\n",
    "    # Either describe the model (source_id) and its components (source-type) using entry \n",
    "    # 'configuration' or provide a 'source_id' and a 'source-type') (see below)\n",
    "    \"configuration\"  : \"AGCM\"  ,\n",
    "    \n",
    "    # Infos about parent experiment if any (otherwise you can comment)\n",
    "    \"parent_experiment_id\" : \"highresSST-present\",   # omit or set to 'no parent' if not applicable\n",
    "    \"parent_mip_era\"       : 'CMIP6',   # set it only in special cases (e.g. PMIP warm start from CMIP5/PMIP3 experiment)\n",
    "    \"parent_activity_id\"    : \"HighResMIP\",\n",
    "    'parent_variant_label'  :\"r1i1p1f2\",  #Default to 'same as child'. Other cases should be exceptional\n",
    "    #'parent_source_id'     : 'CNRM-CM5.1' # set it only in special cases, where parent model is not the same model\n",
    "}"
   ]
  },
  {
   "cell_type": "code",
   "execution_count": 6,
   "metadata": {},
   "outputs": [
    {
     "name": "stdout",
     "output_type": "stream",
     "text": [
      "{'configuration': 'AGCM', 'experiment_id': 'amip', 'realization_index': 1, 'child_time_ref_year': 1850, 'branch_year_in_child': 1850, 'branch_year_in_parent': 2600, 'comments': {}}\n"
     ]
    }
   ],
   "source": [
    "print(sset)"
   ]
  },
  {
   "cell_type": "code",
   "execution_count": 7,
   "metadata": {},
   "outputs": [],
   "source": [
    "sset.update(sset_changes) "
   ]
  },
  {
   "cell_type": "code",
   "execution_count": 8,
   "metadata": {},
   "outputs": [
    {
     "name": "stdout",
     "output_type": "stream",
     "text": [
      "\n",
      "**************************************************\n",
      "\n",
      "Processing context  surfex\n",
      "\n",
      "**************************************************\n",
      "\n",
      "Number of Request Links which apply to MIPS ['CMIP', 'OMIP']  is:  25\n",
      "Number of Request Links after filtering by excluded_request_links is:  25\n",
      "Number of Request Links after filtering by included_request_links is:  25\n",
      "Filtering for experiment highresSST-present, covering years [ 1950 , 2014 ] in DR\n",
      "Number of Request Links which apply to experiment  highresSST-present  member  1  and MIPs ['CMIP', 'OMIP']  is:  2\n",
      "Number of (CMOR variable, grid) pairs for these requestLinks is :130\n",
      "Number once filtered by excluded/included vars and tables and spatial shapes is : 130\n",
      "Number of distinct CMOR variables (whatever the grid) : 130\n",
      "Number of distinct var labels is : 113\n",
      "Number of simplified vars is : 130\n",
      "Issues with standard names are : []\n",
      "Info: No HOMEvars list provided.\n",
      "\n",
      "Realms for these CMORvars : atmos atmos atmosChem atmos land land landIce landIce land ocean ocnBgchem seaIce\n",
      "Processing realm 'atmos' of context 'surfex'\n",
      "Processing realm 'atmos atmosChem' of context 'surfex'\n",
      "Processing realm 'atmosChem' of context 'surfex'\n",
      "Processing realm 'aerosol' of context 'surfex'\n",
      "Processing realm 'atmos land' of context 'surfex'\n",
      "Processing realm 'land' of context 'surfex'\n",
      "Processing realm 'landIce land' of context 'surfex'\n",
      "Processing realm 'land landIce' of context 'surfex'\n",
      "Processing realm 'landIce' of context 'surfex'\n",
      "error : branch_time_in_parent not in dic and default is None\n",
      "error : branch_time_in_parent not in dic and default is None\n",
      "error : branch_time_in_parent not in dic and default is None\n",
      "error : branch_time_in_parent not in dic and default is None\n",
      "error : branch_time_in_parent not in dic and default is None\n",
      "error : branch_time_in_parent not in dic and default is None\n",
      "error : branch_time_in_parent not in dic and default is None\n",
      "error : branch_time_in_parent not in dic and default is None\n",
      "error : branch_time_in_parent not in dic and default is None\n",
      "error : branch_time_in_parent not in dic and default is None\n",
      "error : branch_time_in_parent not in dic and default is None\n",
      "error : branch_time_in_parent not in dic and default is None\n",
      "error : branch_time_in_parent not in dic and default is None\n",
      "error : branch_time_in_parent not in dic and default is None\n",
      "error : branch_time_in_parent not in dic and default is None\n",
      "error : branch_time_in_parent not in dic and default is None\n",
      "error : branch_time_in_parent not in dic and default is None\n",
      "error : branch_time_in_parent not in dic and default is None\n",
      "error : branch_time_in_parent not in dic and default is None\n",
      "error : branch_time_in_parent not in dic and default is None\n",
      "error : branch_time_in_parent not in dic and default is None\n",
      "error : branch_time_in_parent not in dic and default is None\n",
      "error : branch_time_in_parent not in dic and default is None\n",
      "error : branch_time_in_parent not in dic and default is None\n",
      "error : branch_time_in_parent not in dic and default is None\n",
      "error : branch_time_in_parent not in dic and default is None\n",
      "error : branch_time_in_parent not in dic and default is None\n",
      "error : branch_time_in_parent not in dic and default is None\n",
      "error : branch_time_in_parent not in dic and default is None\n",
      "error : branch_time_in_parent not in dic and default is None\n",
      "error : branch_time_in_parent not in dic and default is None\n",
      "error : branch_time_in_parent not in dic and default is None\n",
      "error : branch_time_in_parent not in dic and default is None\n",
      "error : branch_time_in_parent not in dic and default is None\n",
      "error : branch_time_in_parent not in dic and default is None\n",
      "error : branch_time_in_parent not in dic and default is None\n",
      "error : branch_time_in_parent not in dic and default is None\n",
      "error : branch_time_in_parent not in dic and default is None\n",
      "error : branch_time_in_parent not in dic and default is None\n",
      "error : branch_time_in_parent not in dic and default is None\n",
      "error : branch_time_in_parent not in dic and default is None\n",
      "error : branch_time_in_parent not in dic and default is None\n",
      "error : branch_time_in_parent not in dic and default is None\n",
      "error : branch_time_in_parent not in dic and default is None\n",
      "error : branch_time_in_parent not in dic and default is None\n",
      "error : branch_time_in_parent not in dic and default is None\n",
      "error : branch_time_in_parent not in dic and default is None\n",
      "error : branch_time_in_parent not in dic and default is None\n",
      "error : branch_time_in_parent not in dic and default is None\n",
      "error : branch_time_in_parent not in dic and default is None\n",
      "error : branch_time_in_parent not in dic and default is None\n",
      "error : branch_time_in_parent not in dic and default is None\n",
      "error : branch_time_in_parent not in dic and default is None\n",
      "error : branch_time_in_parent not in dic and default is None\n",
      "error : branch_time_in_parent not in dic and default is None\n",
      "error : branch_time_in_parent not in dic and default is None\n",
      "error : branch_time_in_parent not in dic and default is None\n",
      "error : branch_time_in_parent not in dic and default is None\n",
      "error : branch_time_in_parent not in dic and default is None\n",
      "error : branch_time_in_parent not in dic and default is None\n",
      "error : branch_time_in_parent not in dic and default is None\n",
      "error : branch_time_in_parent not in dic and default is None\n",
      "error : branch_time_in_parent not in dic and default is None\n",
      "error : branch_time_in_parent not in dic and default is None\n",
      "error : branch_time_in_parent not in dic and default is None\n",
      "error : branch_time_in_parent not in dic and default is None\n",
      "error : branch_time_in_parent not in dic and default is None\n",
      "error : branch_time_in_parent not in dic and default is None\n",
      "error : branch_time_in_parent not in dic and default is None\n",
      "error : branch_time_in_parent not in dic and default is None\n",
      "error : branch_time_in_parent not in dic and default is None\n",
      "error : branch_time_in_parent not in dic and default is None\n",
      "error : branch_time_in_parent not in dic and default is None\n",
      "error : branch_time_in_parent not in dic and default is None\n",
      "error : branch_time_in_parent not in dic and default is None\n",
      "error : branch_time_in_parent not in dic and default is None\n",
      "error : branch_time_in_parent not in dic and default is None\n",
      "error : branch_time_in_parent not in dic and default is None\n",
      "Warning: Cannot complement model levels with psol for variable zfull and table fx\n",
      "\n",
      "file_def written as ./dr2xml_output/exercices/exe4/dr2xml_surfex.xml\n",
      "\n",
      "Skipped variables (i.e. whose alias is not present in the pingfile):\n",
      ">>> TABLE:            Amon 01/36 ----> rtmt(1)\n",
      "\n",
      ">>> TABLE:             Efx 01/02 ----> sftflf(1)\n",
      "\n",
      ">>> TABLE:            Emon 07/14 ----> pastureFracC3(1) pastureFracC4(1) treeFracBdlDcd(1) treeFracBdlEvg(1) treeFracNdlDcd(1) treeFracNdlEvg(1) wetlandFrac(1)\n",
      "\n",
      ">>> TABLE:             Eyr 03/09 ----> fracInLut(1) fracOutLut(1) shrubFrac(1)\n",
      "\n",
      ">>> TABLE:           LImon 01/03 ----> sftflf(1)\n",
      "\n",
      ">>> TABLE:            Lmon 06/20 ----> pastureFrac(1) shrubFrac(1) treeFracPrimDec(1) treeFracPrimEver(1) treeFracSecDec(1) treeFracSecEver(1)\n",
      "\n",
      ">>> TABLE:              fx 01/08 ----> areacellr(1)\n",
      "\n",
      "\n",
      "\n",
      "\n",
      "Some Statistics on actually written variables per frequency+shape...\n",
      "                             Amon P1  10 :  ch4 co2 hur hus o3 ta ua va wap zg\n",
      "       mon    XY-P19    -------- ---  10\n",
      "\n",
      "                             Amon P1  25 :  clivi clt clwvi evspsbl hfls hfss pr prsn prw ps psl rlds rldscs rlut rlutcs rsds rsdscs rsut rsutcs tas tasmax tasmin tauu tauv ts\n",
      "                             Emon P1   7 :  cropFracC3 cropFracC4 fracLut grassFracC3 grassFracC4 nwdFracLut vegFrac\n",
      "                            LImon P1   2 :  sftgif sftgrf\n",
      "                             Lmon P1  14 :  baresoilFrac burntFractionAll c3PftFrac c4PftFrac cVeg cropFrac gpp grassFrac lai mrro mrso mrsos nbp treeFrac\n",
      "       mon     XY-na    -------- ---  48\n",
      "\n",
      "       mon  --------    -------- ---  58\n",
      "\n",
      "\n",
      "                              Efx P1   1 :  sftgrf\n",
      "                               fx P1   6 :  areacella mrsofc orog rootd sftgif sftlf\n",
      "        fx     XY-na    -------- ---   7\n",
      "\n",
      "                               fx P1   1 :  zfull\n",
      "        fx      XY-A    -------- ---   1\n",
      "\n",
      "        fx  --------    -------- ---   8\n",
      "\n",
      "\n",
      "                              Eyr P1   5 :  baresoilFrac cropFrac grassFrac treeFrac vegFrac\n",
      "        yr     XY-na    -------- ---   5\n",
      "\n",
      "        yr  --------    -------- ---   5\n",
      "\n",
      "\n",
      "                              Eyr P1   1 :  fracLut\n",
      "      yrPt     XY-na    -------- ---   1\n",
      "\n",
      "      yrPt  --------    -------- ---   1\n",
      "\n",
      "\n",
      "                              day P1   6 :  pr rlut snc tas tasmax tasmin\n",
      "       day     XY-na    -------- ---   6\n",
      "\n",
      "       day  --------    -------- ---   6\n",
      "\n",
      "\n",
      "----------  --------    -------- ---  78\n"
     ]
    }
   ],
   "source": [
    "my_outdir=\"./dr2xml_output/exercices/exe4/\"\n",
    "generate_file_defs(lset, sset,year=\"1900\", enddate=\"2014\", context=my_context,\n",
    "                    pingfiles=my_pingfile, printout=True, \n",
    "                    cvs_path=my_cvpath,dummies='skip', dirname=my_outdir)"
   ]
  },
  {
   "cell_type": "code",
   "execution_count": null,
   "metadata": {},
   "outputs": [],
   "source": []
  }
 ],
 "metadata": {
  "kernelspec": {
   "display_name": "Python 3",
   "language": "python",
   "name": "python3"
  },
  "language_info": {
   "codemirror_mode": {
    "name": "ipython",
    "version": 3
   },
   "file_extension": ".py",
   "mimetype": "text/x-python",
   "name": "python",
   "nbconvert_exporter": "python",
   "pygments_lexer": "ipython3",
   "version": "3.7.3"
  }
 },
 "nbformat": 4,
 "nbformat_minor": 2
}
