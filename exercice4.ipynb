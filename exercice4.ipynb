{
 "cells": [
  {
   "cell_type": "markdown",
   "metadata": {},
   "source": [
    "# Exercice 4:  Run a non CMIP6 experiment"
   ]
  },
  {
   "cell_type": "markdown",
   "metadata": {},
   "source": [
    "> **Objective:** configure dr2xml for a non-cmip6 experiment "
   ]
  },
  {
   "cell_type": "markdown",
   "metadata": {},
   "source": [
    "## Importations and initial settings"
   ]
  },
  {
   "cell_type": "code",
   "execution_count": null,
   "metadata": {},
   "outputs": [],
   "source": [
    "from dr2xml import generate_file_defs"
   ]
  },
  {
   "cell_type": "code",
   "execution_count": null,
   "metadata": {},
   "outputs": [],
   "source": [
    "from settings.exercices.exe4.myEXPE_settings import simulation_settings as sset\n",
    "from settings.exercices.exe4.myLAB_settings import lab_and_model_settings as lset"
   ]
  },
  {
   "cell_type": "code",
   "execution_count": null,
   "metadata": {},
   "outputs": [],
   "source": [
    "my_cvpath=\"./CMIP6_CVs/\"\n",
    "my_context=\"surfex\"\n",
    "my_pingfile=lset[\"path_to_parse\"]+\"ping_\"+my_context+\".xml\""
   ]
  },
  {
   "cell_type": "markdown",
   "metadata": {},
   "source": [
    "## Exercice 4"
   ]
  },
  {
   "cell_type": "code",
   "execution_count": null,
   "metadata": {},
   "outputs": [],
   "source": [
    "sset_changes={\n",
    "    # Experiment id to use for driving the use of the Data Request (default is experiment_id)\n",
    "    'experiment_for_requests' : \"highresSST-present\",\n",
    "    \"expid_in_filename\"     : \"primWP5-AMIPice\",\n",
    "    \"experiment\"            : \"PRIMAVERA/WP5 T5.2 Influence of Arctic sea ice and Siberian snow cover on European climate. AMIP experiment with perturbed sic and sst.\",\n",
    "    #\"description\"           : \"\",\n",
    "    \"mip_era\"               : \"PRIMAVERA\",   # set it only in special cases (e.g. PMIP warm start from CMIP5/PMIP3 experiment)\n",
    "    \"activity_id\"           : 'primWP5',\n",
    "\n",
    "    # Either describe the model (source_id) and its components (source-type) using entry \n",
    "    # 'configuration' or provide a 'source_id' and a 'source-type') (see below)\n",
    "    \"configuration\"  : \"AGCM\"  ,\n",
    "    \n",
    "    # Infos about parent experiment if any (otherwise you can comment)\n",
    "    \"parent_experiment_id\" : \"highresSST-present\",   # omit or set to 'no parent' if not applicable\n",
    "    \"parent_mip_era\"       : 'CMIP6',   # set it only in special cases (e.g. PMIP warm start from CMIP5/PMIP3 experiment)\n",
    "    \"parent_activity_id\"    : \"HighResMIP\",\n",
    "    'parent_variant_label'  :\"r1i1p1f2\",  #Default to 'same as child'. Other cases should be exceptional\n",
    "    #'parent_source_id'     : 'CNRM-CM5.1' # set it only in special cases, where parent model is not the same model\n",
    "}"
   ]
  },
  {
   "cell_type": "code",
   "execution_count": null,
   "metadata": {},
   "outputs": [],
   "source": [
    "print(sset)"
   ]
  },
  {
   "cell_type": "code",
   "execution_count": null,
   "metadata": {},
   "outputs": [],
   "source": [
    "sset.update(sset_changes) "
   ]
  },
  {
   "cell_type": "code",
   "execution_count": null,
   "metadata": {},
   "outputs": [],
   "source": [
    "# Add the list of the attributes that should be put in files and fields (key print_variables)\n",
    "lset_changes = {\n",
    "    # Select some attributes in output file\n",
    "    \"print_variables\" : [\"experiment_id\", \"external_variables\", \"grid\", \"institution_id\", \"institution\", \"mip_era\",\n",
    "                         \"parent_experiment_id\", \"parent_source_id\", \"parent_time_units\", \"parent_variant_label\", \n",
    "                         \"branch_method\", \"branch_time_in_child\", \"variant_label\", \"product\", \"source\", \"source_id\", \n",
    "                         \"source_type\", \"variant_label\",\n",
    "                         \"standard_name\", \"units\", \"cell_methods\", \"cell_measures\", \"description\"]\n",
    "}"
   ]
  },
  {
   "cell_type": "code",
   "execution_count": null,
   "metadata": {},
   "outputs": [],
   "source": [
    "print(lset)"
   ]
  },
  {
   "cell_type": "code",
   "execution_count": null,
   "metadata": {},
   "outputs": [],
   "source": [
    "lset.update(lset_changes) "
   ]
  },
  {
   "cell_type": "code",
   "execution_count": null,
   "metadata": {
    "scrolled": true
   },
   "outputs": [],
   "source": [
    "my_outdir=\"./dr2xml_output/exercices/exe4/\"\n",
    "generate_file_defs(lset, sset,year=\"1900\", enddate=\"2014\", context=my_context,\n",
    "                    pingfiles=my_pingfile, printout=True, \n",
    "                    cvs_path=my_cvpath,dummies='skip', dirname=my_outdir)"
   ]
  },
  {
   "cell_type": "code",
   "execution_count": null,
   "metadata": {},
   "outputs": [],
   "source": [
    "!grep  \"primWP5-AMIPice\" ./dr2xml_output/exercices/exe4/dr2xml_surfex.xml"
   ]
  },
  {
   "cell_type": "code",
   "execution_count": null,
   "metadata": {},
   "outputs": [],
   "source": []
  }
 ],
 "metadata": {
  "kernelspec": {
   "display_name": "Python 3",
   "language": "python",
   "name": "python3"
  },
  "language_info": {
   "codemirror_mode": {
    "name": "ipython",
    "version": 3
   },
   "file_extension": ".py",
   "mimetype": "text/x-python",
   "name": "python",
   "nbconvert_exporter": "python",
   "pygments_lexer": "ipython3",
   "version": "3.7.6"
  }
 },
 "nbformat": 4,
 "nbformat_minor": 2
}
